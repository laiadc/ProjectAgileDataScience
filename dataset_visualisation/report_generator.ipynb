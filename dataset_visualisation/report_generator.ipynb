{
 "cells": [
  {
   "cell_type": "markdown",
   "metadata": {},
   "source": [
    "Read data and concatenate "
   ]
  },
  {
   "cell_type": "code",
   "execution_count": 2,
   "metadata": {},
   "outputs": [],
   "source": [
    "import pandas as pd\n",
    "csv_train = pd.read_csv(\"../data/train.csv\")\n",
    "csv_test = pd.read_csv(\"../data/test.csv\").assign(specific_death=None).assign(months_survival=None)\n",
    "csv = pd.concat([csv_train, csv_test], sort=True)"
   ]
  },
  {
   "cell_type": "markdown",
   "metadata": {},
   "source": [
    "Generate report using `pandas_profiling`"
   ]
  },
  {
   "cell_type": "code",
   "execution_count": 3,
   "metadata": {},
   "outputs": [],
   "source": [
    "import pandas_profiling\n",
    "report = csv.profile_report(title='Dataset Profiling Report', style={'full_width':True})\n",
    "report.to_file(output_file=\"profiling_report.html\")"
   ]
  },
  {
   "cell_type": "markdown",
   "metadata": {},
   "source": [
    "Save report pickle"
   ]
  },
  {
   "cell_type": "code",
   "execution_count": 88,
   "metadata": {},
   "outputs": [],
   "source": [
    "import pickle \n",
    "dbfile = open('report.pickle', 'ab') \n",
    "pickle.dump(report, dbfile)                      \n",
    "dbfile.close() "
   ]
  },
  {
   "cell_type": "markdown",
   "metadata": {},
   "source": [
    "Load report pickle"
   ]
  },
  {
   "cell_type": "code",
   "execution_count": null,
   "metadata": {},
   "outputs": [],
   "source": [
    "import pickle \n",
    "dbfile = open('report.pickle', 'rb')      \n",
    "report = pickle.load(dbfile) \n",
    "dbfile.close() "
   ]
  },
  {
   "cell_type": "markdown",
   "metadata": {},
   "source": [
    "Defines"
   ]
  },
  {
   "cell_type": "code",
   "execution_count": 95,
   "metadata": {},
   "outputs": [],
   "source": [
    "from IPython.display import display_html, HTML\n",
    "\n",
    "\n",
    "def show_html(html):\n",
    "    display_html(HTML(str(html)))\n",
    "\n",
    "\n",
    "def save_html(html, name):\n",
    "    with open(name + \".html\", \"w\", encoding=\"utf-8\") as file:\n",
    "        file.write(str(html))\n",
    "\n",
    "\n",
    "def save_overview(soup):\n",
    "    # <div id=\"overview-content\" class=\"row variable\">\n",
    "    for container in soup.findAll(\"div\", attrs={\n",
    "                                      \"id\": re.compile(\"overview-content\"),\n",
    "                                      \"class\": re.compile(\"row variable\")\n",
    "                                  }):\n",
    "        container.prettify()\n",
    "#         show_html(container)\n",
    "        save_html(container, \"overview\")\n",
    "    print(\"Saved overview html\")\n",
    "        \n",
    "def save_variables(soup):\n",
    "    # <div class=\"row variable\">\n",
    "    for container in soup.findAll(\"div\", attrs={\"class\": re.compile(\"row variable\")}):\n",
    "        if container.p == None or container.p.get_text() == 'Dataset info':\n",
    "            continue\n",
    "        variable_name = str(container.findAll(\"p\", attrs={\"class\": re.compile(\"h4\")})[0].get_text().split('\\n')[0])\n",
    "        variable_name = \"variables_overview/variable_\" + variable_name\n",
    "        #     show_html(container)\n",
    "        save_html(container, variable_name)\n",
    "    print(\"Saved variables htmls\")"
   ]
  },
  {
   "cell_type": "code",
   "execution_count": 96,
   "metadata": {},
   "outputs": [
    {
     "name": "stdout",
     "output_type": "stream",
     "text": [
      "Saved overview html\n",
      "Saved variables htmls\n"
     ]
    }
   ],
   "source": [
    "from bs4 import BeautifulSoup\n",
    "import urllib\n",
    "import re\n",
    "import json\n",
    "import ast\n",
    "\n",
    "soup = BeautifulSoup(html)\n",
    "save_overview(soup)\n",
    "save_variables(soup)"
   ]
  }
 ],
 "metadata": {
  "kernelspec": {
   "display_name": "Python 3",
   "language": "python",
   "name": "python3"
  },
  "language_info": {
   "codemirror_mode": {
    "name": "ipython",
    "version": 3
   },
   "file_extension": ".py",
   "mimetype": "text/x-python",
   "name": "python",
   "nbconvert_exporter": "python",
   "pygments_lexer": "ipython3",
   "version": "3.7.3"
  },
  "toc": {
   "base_numbering": 1,
   "nav_menu": {},
   "number_sections": true,
   "sideBar": true,
   "skip_h1_title": false,
   "title_cell": "Table of Contents",
   "title_sidebar": "Contents",
   "toc_cell": false,
   "toc_position": {},
   "toc_section_display": true,
   "toc_window_display": false
  }
 },
 "nbformat": 4,
 "nbformat_minor": 4
}
