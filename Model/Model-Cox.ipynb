{
 "cells": [
  {
   "cell_type": "code",
   "execution_count": 1,
   "metadata": {},
   "outputs": [],
   "source": [
    "#Import python packages\n",
    "import numpy as np\n",
    "import pandas as pd\n",
    "from matplotlib import pyplot as plt\n",
    "from sklearn.model_selection import train_test_split\n",
    "from pysurvival.models.simulations import SimulationModel\n",
    "from pysurvival.models.semi_parametric import CoxPHModel\n",
    "from pysurvival.utils.metrics import concordance_index\n",
    "from pysurvival.utils.display import integrated_brier_score\n",
    "\n",
    "#import our functions\n",
    "from cleaning import cleaning\n",
    "import error_function\n",
    "from lasso import rmse_cv,Lasso_importance"
   ]
  },
  {
   "cell_type": "markdown",
   "metadata": {},
   "source": [
    "# Obtain the preprocessed train and test sets"
   ]
  },
  {
   "cell_type": "markdown",
   "metadata": {},
   "source": [
    "Let us begin by reading the data stored in *data/train.csv* and split it into train (80%) and test (20%). Moreover, the datasets returned are already preprocessed (missing imputation + encoding + normalization)."
   ]
  },
  {
   "cell_type": "code",
   "execution_count": 2,
   "metadata": {},
   "outputs": [],
   "source": [
    "X_train, X_test, y_train, y_test = cleaning('train.csv', 0.2)"
   ]
  },
  {
   "cell_type": "markdown",
   "metadata": {},
   "source": [
    "Let us now visualize the first 5 elements of the *X_train* and *y_train* dataframes. "
   ]
  },
  {
   "cell_type": "code",
   "execution_count": 3,
   "metadata": {},
   "outputs": [
    {
     "data": {
      "text/html": [
       "<div>\n",
       "<style scoped>\n",
       "    .dataframe tbody tr th:only-of-type {\n",
       "        vertical-align: middle;\n",
       "    }\n",
       "\n",
       "    .dataframe tbody tr th {\n",
       "        vertical-align: top;\n",
       "    }\n",
       "\n",
       "    .dataframe thead th {\n",
       "        text-align: right;\n",
       "    }\n",
       "</style>\n",
       "<table border=\"1\" class=\"dataframe\">\n",
       "  <thead>\n",
       "    <tr style=\"text-align: right;\">\n",
       "      <th></th>\n",
       "      <th>patient_gender</th>\n",
       "      <th>patient_eye_color</th>\n",
       "      <th>patient_hair_color</th>\n",
       "      <th>patient_phototype</th>\n",
       "      <th>primary_tumour_location_coded</th>\n",
       "      <th>T0_date</th>\n",
       "      <th>cutaneous_biopsy_breslow</th>\n",
       "      <th>cutaneous_biopsy_ulceration</th>\n",
       "      <th>cutaneous_biopsy_satellitosis</th>\n",
       "      <th>cutaneous_biopsy_vascular_invasion</th>\n",
       "      <th>...</th>\n",
       "      <th>LAB2679</th>\n",
       "      <th>LAB4176</th>\n",
       "      <th>neutrofils_per_limfocits</th>\n",
       "      <th>limfocits_per_monocits</th>\n",
       "      <th>LABGF_filtrat_glomerular</th>\n",
       "      <th>missLymp</th>\n",
       "      <th>missLAB</th>\n",
       "      <th>missBIO</th>\n",
       "      <th>missBIO2</th>\n",
       "      <th>missNEU</th>\n",
       "    </tr>\n",
       "  </thead>\n",
       "  <tbody>\n",
       "    <tr>\n",
       "      <td>1433</td>\n",
       "      <td>0</td>\n",
       "      <td>0.138016</td>\n",
       "      <td>0.128812</td>\n",
       "      <td>0.4</td>\n",
       "      <td>0.493579</td>\n",
       "      <td>0.005955</td>\n",
       "      <td>0.003333</td>\n",
       "      <td>103.969494</td>\n",
       "      <td>0</td>\n",
       "      <td>0</td>\n",
       "      <td>...</td>\n",
       "      <td>0.008837</td>\n",
       "      <td>0.105651</td>\n",
       "      <td>0.077983</td>\n",
       "      <td>0.029499</td>\n",
       "      <td>0.381858</td>\n",
       "      <td>0.0</td>\n",
       "      <td>0.0</td>\n",
       "      <td>1.0</td>\n",
       "      <td>0.0</td>\n",
       "      <td>0.0</td>\n",
       "    </tr>\n",
       "    <tr>\n",
       "      <td>630</td>\n",
       "      <td>0</td>\n",
       "      <td>0.000000</td>\n",
       "      <td>0.000000</td>\n",
       "      <td>0.0</td>\n",
       "      <td>0.253265</td>\n",
       "      <td>0.000993</td>\n",
       "      <td>0.115000</td>\n",
       "      <td>71.823529</td>\n",
       "      <td>0</td>\n",
       "      <td>0</td>\n",
       "      <td>...</td>\n",
       "      <td>0.000000</td>\n",
       "      <td>0.000000</td>\n",
       "      <td>0.000000</td>\n",
       "      <td>0.000000</td>\n",
       "      <td>0.000000</td>\n",
       "      <td>0.0</td>\n",
       "      <td>1.0</td>\n",
       "      <td>0.0</td>\n",
       "      <td>0.0</td>\n",
       "      <td>1.0</td>\n",
       "    </tr>\n",
       "    <tr>\n",
       "      <td>78</td>\n",
       "      <td>1</td>\n",
       "      <td>0.074893</td>\n",
       "      <td>0.064383</td>\n",
       "      <td>0.4</td>\n",
       "      <td>0.493579</td>\n",
       "      <td>0.000496</td>\n",
       "      <td>0.035000</td>\n",
       "      <td>103.969494</td>\n",
       "      <td>0</td>\n",
       "      <td>0</td>\n",
       "      <td>...</td>\n",
       "      <td>0.000000</td>\n",
       "      <td>0.000000</td>\n",
       "      <td>0.000000</td>\n",
       "      <td>0.000000</td>\n",
       "      <td>0.000000</td>\n",
       "      <td>0.0</td>\n",
       "      <td>1.0</td>\n",
       "      <td>0.0</td>\n",
       "      <td>0.0</td>\n",
       "      <td>1.0</td>\n",
       "    </tr>\n",
       "    <tr>\n",
       "      <td>366</td>\n",
       "      <td>1</td>\n",
       "      <td>0.138016</td>\n",
       "      <td>0.128812</td>\n",
       "      <td>0.8</td>\n",
       "      <td>0.559139</td>\n",
       "      <td>0.001985</td>\n",
       "      <td>0.013333</td>\n",
       "      <td>103.969494</td>\n",
       "      <td>0</td>\n",
       "      <td>0</td>\n",
       "      <td>...</td>\n",
       "      <td>0.000000</td>\n",
       "      <td>0.000000</td>\n",
       "      <td>0.000000</td>\n",
       "      <td>0.000000</td>\n",
       "      <td>0.000000</td>\n",
       "      <td>0.0</td>\n",
       "      <td>1.0</td>\n",
       "      <td>0.0</td>\n",
       "      <td>0.0</td>\n",
       "      <td>1.0</td>\n",
       "    </tr>\n",
       "    <tr>\n",
       "      <td>1995</td>\n",
       "      <td>1</td>\n",
       "      <td>0.000000</td>\n",
       "      <td>0.000000</td>\n",
       "      <td>0.0</td>\n",
       "      <td>0.493579</td>\n",
       "      <td>0.008437</td>\n",
       "      <td>0.050000</td>\n",
       "      <td>103.969494</td>\n",
       "      <td>0</td>\n",
       "      <td>0</td>\n",
       "      <td>...</td>\n",
       "      <td>0.000000</td>\n",
       "      <td>0.000000</td>\n",
       "      <td>0.000000</td>\n",
       "      <td>0.000000</td>\n",
       "      <td>0.000000</td>\n",
       "      <td>0.0</td>\n",
       "      <td>1.0</td>\n",
       "      <td>0.0</td>\n",
       "      <td>0.0</td>\n",
       "      <td>1.0</td>\n",
       "    </tr>\n",
       "  </tbody>\n",
       "</table>\n",
       "<p>5 rows × 54 columns</p>\n",
       "</div>"
      ],
      "text/plain": [
       "      patient_gender  patient_eye_color  patient_hair_color  \\\n",
       "1433               0           0.138016            0.128812   \n",
       "630                0           0.000000            0.000000   \n",
       "78                 1           0.074893            0.064383   \n",
       "366                1           0.138016            0.128812   \n",
       "1995               1           0.000000            0.000000   \n",
       "\n",
       "      patient_phototype  primary_tumour_location_coded   T0_date  \\\n",
       "1433                0.4                       0.493579  0.005955   \n",
       "630                 0.0                       0.253265  0.000993   \n",
       "78                  0.4                       0.493579  0.000496   \n",
       "366                 0.8                       0.559139  0.001985   \n",
       "1995                0.0                       0.493579  0.008437   \n",
       "\n",
       "      cutaneous_biopsy_breslow  cutaneous_biopsy_ulceration  \\\n",
       "1433                  0.003333                   103.969494   \n",
       "630                   0.115000                    71.823529   \n",
       "78                    0.035000                   103.969494   \n",
       "366                   0.013333                   103.969494   \n",
       "1995                  0.050000                   103.969494   \n",
       "\n",
       "      cutaneous_biopsy_satellitosis  cutaneous_biopsy_vascular_invasion  ...  \\\n",
       "1433                              0                                   0  ...   \n",
       "630                               0                                   0  ...   \n",
       "78                                0                                   0  ...   \n",
       "366                               0                                   0  ...   \n",
       "1995                              0                                   0  ...   \n",
       "\n",
       "       LAB2679   LAB4176  neutrofils_per_limfocits  limfocits_per_monocits  \\\n",
       "1433  0.008837  0.105651                  0.077983                0.029499   \n",
       "630   0.000000  0.000000                  0.000000                0.000000   \n",
       "78    0.000000  0.000000                  0.000000                0.000000   \n",
       "366   0.000000  0.000000                  0.000000                0.000000   \n",
       "1995  0.000000  0.000000                  0.000000                0.000000   \n",
       "\n",
       "      LABGF_filtrat_glomerular  missLymp  missLAB  missBIO  missBIO2  missNEU  \n",
       "1433                  0.381858       0.0      0.0      1.0       0.0      0.0  \n",
       "630                   0.000000       0.0      1.0      0.0       0.0      1.0  \n",
       "78                    0.000000       0.0      1.0      0.0       0.0      1.0  \n",
       "366                   0.000000       0.0      1.0      0.0       0.0      1.0  \n",
       "1995                  0.000000       0.0      1.0      0.0       0.0      1.0  \n",
       "\n",
       "[5 rows x 54 columns]"
      ]
     },
     "execution_count": 3,
     "metadata": {},
     "output_type": "execute_result"
    }
   ],
   "source": [
    "X_train.head()"
   ]
  },
  {
   "cell_type": "code",
   "execution_count": 4,
   "metadata": {
    "scrolled": true
   },
   "outputs": [
    {
     "data": {
      "text/html": [
       "<div>\n",
       "<style scoped>\n",
       "    .dataframe tbody tr th:only-of-type {\n",
       "        vertical-align: middle;\n",
       "    }\n",
       "\n",
       "    .dataframe tbody tr th {\n",
       "        vertical-align: top;\n",
       "    }\n",
       "\n",
       "    .dataframe thead th {\n",
       "        text-align: right;\n",
       "    }\n",
       "</style>\n",
       "<table border=\"1\" class=\"dataframe\">\n",
       "  <thead>\n",
       "    <tr style=\"text-align: right;\">\n",
       "      <th></th>\n",
       "      <th>specific_death</th>\n",
       "      <th>months_survival</th>\n",
       "    </tr>\n",
       "  </thead>\n",
       "  <tbody>\n",
       "    <tr>\n",
       "      <td>1433</td>\n",
       "      <td>0</td>\n",
       "      <td>101</td>\n",
       "    </tr>\n",
       "    <tr>\n",
       "      <td>630</td>\n",
       "      <td>1</td>\n",
       "      <td>33</td>\n",
       "    </tr>\n",
       "    <tr>\n",
       "      <td>78</td>\n",
       "      <td>0</td>\n",
       "      <td>100</td>\n",
       "    </tr>\n",
       "    <tr>\n",
       "      <td>366</td>\n",
       "      <td>0</td>\n",
       "      <td>192</td>\n",
       "    </tr>\n",
       "    <tr>\n",
       "      <td>1995</td>\n",
       "      <td>0</td>\n",
       "      <td>0</td>\n",
       "    </tr>\n",
       "  </tbody>\n",
       "</table>\n",
       "</div>"
      ],
      "text/plain": [
       "      specific_death  months_survival\n",
       "1433               0              101\n",
       "630                1               33\n",
       "78                 0              100\n",
       "366                0              192\n",
       "1995               0                0"
      ]
     },
     "execution_count": 4,
     "metadata": {},
     "output_type": "execute_result"
    }
   ],
   "source": [
    "y_train.head()"
   ]
  },
  {
   "cell_type": "markdown",
   "metadata": {},
   "source": [
    "# Feature selection"
   ]
  },
  {
   "cell_type": "markdown",
   "metadata": {},
   "source": [
    "We will use Lasso so as to see how much each feature contributes when performing a linear regression. That is, the coefficient of each feature in a linear regression."
   ]
  },
  {
   "cell_type": "code",
   "execution_count": 5,
   "metadata": {},
   "outputs": [
    {
     "name": "stdout",
     "output_type": "stream",
     "text": [
      "Lasso set coefficient equal to 0 to 2 features out of 54\n"
     ]
    },
    {
     "data": {
      "image/png": "[encoded data removed]",
      "text/plain": [
       "<Figure size 576x720 with 1 Axes>"
      ]
     },
     "metadata": {
      "needs_background": "light"
     },
     "output_type": "display_data"
    }
   ],
   "source": [
    "coefs = Lasso_importance(X_train, y_train['months_survival']) #coef of each feature in the linear regression"
   ]
  },
  {
   "cell_type": "markdown",
   "metadata": {},
   "source": [
    "Notice that it says that Lasso set two features to 0 out of a total of 54 features. In other words, two features had null coefficients.<br>\n",
    "Finally, we can see a bar plot displaying the values of the coefficient for 20 features. The first 10 features are the ones with lower coefficients (sorted in an ascending way). The other 10 are the ones with higher coefficients (also sorted in an ascending way)."
   ]
  },
  {
   "cell_type": "markdown",
   "metadata": {},
   "source": [
    "Using the previous information, we will just keep the features with positive coefficients."
   ]
  },
  {
   "cell_type": "code",
   "execution_count": 6,
   "metadata": {},
   "outputs": [],
   "source": [
    "coefs.sort_values(ascending=False, inplace=True)\n",
    "selected_columns = coefs[np.abs(coefs)>0].index\n",
    "X_train = X_train[selected_columns]\n",
    "X_test = X_test[selected_columns]"
   ]
  },
  {
   "cell_type": "markdown",
   "metadata": {},
   "source": [
    "# Define the Cox model"
   ]
  },
  {
   "cell_type": "markdown",
   "metadata": {},
   "source": [
    "In order to be able to create the Cox model, we need to split the *y_train* and *y_test* into the *T* (time) and *D* (death) labels.  "
   ]
  },
  {
   "cell_type": "code",
   "execution_count": 7,
   "metadata": {},
   "outputs": [],
   "source": [
    "T_train, T_test = y_train['months_survival'].values, y_test['months_survival'].values\n",
    "D_train, D_test = y_train['specific_death'].values, y_test['specific_death'].values"
   ]
  },
  {
   "cell_type": "markdown",
   "metadata": {},
   "source": [
    "Let us now build the model."
   ]
  },
  {
   "cell_type": "code",
   "execution_count": 8,
   "metadata": {},
   "outputs": [
    {
     "name": "stdout",
     "output_type": "stream",
     "text": [
      "Performing Newton-Raphson optimization\n",
      " * Iteration #1 - Loss = 2115.410 - ||grad||^2 = 690.59900\n",
      " * Iteration #2 - Loss = 2604.348 - ||grad||^2 = 1780.29471\n",
      " * Iteration #3 - Loss = 2021.501 - ||grad||^2 = 350.15254\n",
      " * Iteration #4 - Loss = 1985.493 - ||grad||^2 = 1031.66926\n",
      " * Iteration #5 - Loss = 1877.481 - ||grad||^2 = 137.16174\n",
      " * Iteration #6 - Loss = 1885.502 - ||grad||^2 = 668.66767\n",
      " * Iteration #7 - Loss = 1867.528 - ||grad||^2 = 415.97738\n",
      " * Iteration #8 - Loss = 1860.689 - ||grad||^2 = 278.53219\n",
      " * Iteration #9 - Loss = 1857.315 - ||grad||^2 = 189.35442\n",
      " * Iteration #10 - Loss = 1855.531 - ||grad||^2 = 129.29732\n",
      " * Iteration #11 - Loss = 1854.558 - ||grad||^2 = 88.24573\n",
      " * Iteration #12 - Loss = 1854.025 - ||grad||^2 = 60.02111\n",
      " * Iteration #13 - Loss = 1853.736 - ||grad||^2 = 40.60562\n",
      " * Iteration #14 - Loss = 1853.584 - ||grad||^2 = 27.29413\n",
      " * Iteration #15 - Loss = 1853.506 - ||grad||^2 = 18.22334\n",
      " * Iteration #16 - Loss = 1853.468 - ||grad||^2 = 12.09030\n",
      " * Iteration #17 - Loss = 1853.450 - ||grad||^2 = 7.97772\n",
      " * Iteration #18 - Loss = 1853.442 - ||grad||^2 = 5.24115\n",
      " * Iteration #19 - Loss = 1853.438 - ||grad||^2 = 3.43198\n",
      " * Iteration #20 - Loss = 1853.437 - ||grad||^2 = 2.24199\n",
      " * Iteration #21 - Loss = 1853.436 - ||grad||^2 = 1.46218\n",
      " * Iteration #22 - Loss = 1853.436 - ||grad||^2 = 0.95253\n",
      " * Iteration #23 - Loss = 1853.436 - ||grad||^2 = 0.62005\n",
      " * Iteration #24 - Loss = 1853.436 - ||grad||^2 = 0.40342\n",
      " * Iteration #25 - Loss = 1853.436 - ||grad||^2 = 0.26239\n",
      " * Iteration #26 - Loss = 1853.436 - ||grad||^2 = 0.17062\n",
      " * Iteration #27 - Loss = 1853.436 - ||grad||^2 = 0.11093\n",
      " * Iteration #28 - Loss = 1853.436 - ||grad||^2 = 0.07212\n",
      " * Iteration #29 - Loss = 1853.436 - ||grad||^2 = 0.04688\n",
      " * Iteration #30 - Loss = 1853.436 - ||grad||^2 = 0.03048\n",
      " * Iteration #31 - Loss = 1853.436 - ||grad||^2 = 0.01981\n",
      " * Iteration #32 - Loss = 1853.436 - ||grad||^2 = 0.01288\n",
      " * Iteration #33 - Loss = 1853.436 - ||grad||^2 = 0.00837\n",
      " * Iteration #34 - Loss = 1853.436 - ||grad||^2 = 0.00544\n",
      " * Iteration #35 - Loss = 1853.436 - ||grad||^2 = 0.00354\n",
      " * Iteration #36 - Loss = 1853.436 - ||grad||^2 = 0.00230\n",
      " * Iteration #37 - Loss = 1853.436 - ||grad||^2 = 0.00149\n",
      " * Iteration #38 - Loss = 1853.436 - ||grad||^2 = 0.00097\n",
      "Converged after 38 iterations.\n"
     ]
    }
   ],
   "source": [
    "coxph = CoxPHModel()\n",
    "estimator = coxph.fit(X_train, T_train, D_train, lr=0.35, l2_reg=1e-2, init_method='zeros')"
   ]
  },
  {
   "cell_type": "markdown",
   "metadata": {},
   "source": [
    "# Metrics"
   ]
  },
  {
   "cell_type": "markdown",
   "metadata": {},
   "source": [
    "### Concordance Index\n",
    "\n",
    "First of all, we are going to check the *concordance index (C_index)*. It measures whether the predicted order of patient's deaths corresponds to the true order of deaths. C_index=1 would be a perfect match (in the order) and C_index=0 would be that we have missed all of them.<br>\n",
    "Reference for the C_index: https://medium.com/analytics-vidhya/concordance-index-72298c11eac7"
   ]
  },
  {
   "cell_type": "code",
   "execution_count": 9,
   "metadata": {},
   "outputs": [
    {
     "name": "stdout",
     "output_type": "stream",
     "text": [
      "C-index: 0.81\n"
     ]
    }
   ],
   "source": [
    "c_index = concordance_index(coxph,  X_test.values, T_test, D_test)\n",
    "print('C-index: {:.2f}'.format(c_index))"
   ]
  },
  {
   "cell_type": "markdown",
   "metadata": {},
   "source": [
    "### Integrated Brier Score\n",
    "\n",
    "The *Integrated Brier Score (IBS)* is a way of computing the error between the survival probability at time *t* of an individual and its ground truth at time *t*. The BS computes such error for each *t* whereas the IBS computes the integral of the BS curve. IBS=0 would mean perfect match. <br>\n",
    "Reference for the IBS (and its implementation): https://square.github.io/pysurvival/metrics/brier_score.html"
   ]
  },
  {
   "cell_type": "code",
   "execution_count": 10,
   "metadata": {},
   "outputs": [
    {
     "data": {
      "image/png": "[encoded data removed]",
      "text/plain": [
       "<Figure size 1440x468 with 1 Axes>"
      ]
     },
     "metadata": {
      "needs_background": "light"
     },
     "output_type": "display_data"
    },
    {
     "name": "stdout",
     "output_type": "stream",
     "text": [
      "IBS: 0.02\n"
     ]
    }
   ],
   "source": [
    "#Plot the BS curve and gives the integral under the curve (IBS)\n",
    "ibs = integrated_brier_score(coxph, X_test.values, T_test, D_test, t_max=30, figure_size=(20, 6.5))\n",
    "print('IBS: {:.2f}'.format(ibs))"
   ]
  },
  {
   "cell_type": "markdown",
   "metadata": {},
   "source": [
    "### Brier Score with Inverse Probability Censoring Weights\n",
    "\n",
    "It is defined as \n",
    "$$\n",
    "ErrorScore = \\frac{1}{NT}\\sum_{i=1}^N\\sum_{j=1}^T w_i(t_j)|\\hat{Y}_i(t_j)-Y_i(t_j)|^2\n",
    "$$\n",
    "\n",
    "Let us now find it."
   ]
  },
  {
   "cell_type": "markdown",
   "metadata": {},
   "source": [
    "**1. Compute the predictions $\\hat{Y}$**."
   ]
  },
  {
   "cell_type": "code",
   "execution_count": 11,
   "metadata": {},
   "outputs": [],
   "source": [
    "#Function that returns the predicted values (values of the survival curve) for each patient of the input x_test\n",
    "\n",
    "def get_predictions(x_test, estimator):\n",
    "    \n",
    "    # Create an empty pandas dataframes with these times as the columns\n",
    "    pred = estimator.predict_survival(x_test.values[0, :]).flatten()\n",
    "    print(pred.shape)\n",
    "    times = np.arange(pred.shape[0])\n",
    "    pred_df = pd.DataFrame(columns = times )\n",
    "    \n",
    "    # Convert each row to a pandas series row (transpose) with the index as these x times and append it to the df\n",
    "    for i in range(0,len(x_test)):\n",
    "        pred = estimator.predict_survival(x_test.values[i, :])\n",
    "        pred_df = pred_df.append(pd.DataFrame(pred)) \n",
    "\n",
    "    pred_df = pred_df.set_index(np.arange(pred_df.shape[0]))\n",
    "\n",
    "    return pred_df,times"
   ]
  },
  {
   "cell_type": "code",
   "execution_count": 12,
   "metadata": {},
   "outputs": [
    {
     "name": "stdout",
     "output_type": "stream",
     "text": [
      "(105,)\n"
     ]
    }
   ],
   "source": [
    "predictions, times = get_predictions(X_test, estimator)"
   ]
  },
  {
   "cell_type": "markdown",
   "metadata": {},
   "source": [
    "**2. Compute the weights.**"
   ]
  },
  {
   "cell_type": "code",
   "execution_count": 13,
   "metadata": {},
   "outputs": [],
   "source": [
    "weights = error_function.calc_weights(y_test) "
   ]
  },
  {
   "cell_type": "markdown",
   "metadata": {},
   "source": [
    "**3. Compute the error.**"
   ]
  },
  {
   "cell_type": "code",
   "execution_count": 14,
   "metadata": {},
   "outputs": [
    {
     "name": "stdout",
     "output_type": "stream",
     "text": [
      "Overall error:  0.05736018654864291\n"
     ]
    }
   ],
   "source": [
    "error = error_function.brier_score_loss_weighted(pred = predictions, actual = y_test, weights = weights)\n",
    "print(\"Overall error: \", error)"
   ]
  },
  {
   "cell_type": "markdown",
   "metadata": {},
   "source": [
    "# Retrain the model using both the training and test sets."
   ]
  },
  {
   "cell_type": "code",
   "execution_count": 18,
   "metadata": {},
   "outputs": [
    {
     "name": "stdout",
     "output_type": "stream",
     "text": [
      "Performing Newton-Raphson optimization\n",
      " * Iteration #1 - Loss = 2708.402 - ||grad||^2 = 863.13152\n",
      " * Iteration #2 - Loss = 2611.448 - ||grad||^2 = 1007.35222\n",
      " * Iteration #3 - Loss = 2491.209 - ||grad||^2 = 646.82544\n",
      " * Iteration #4 - Loss = 2457.002 - ||grad||^2 = 544.84558\n",
      " * Iteration #5 - Loss = 2434.908 - ||grad||^2 = 461.35702\n",
      " * Iteration #6 - Loss = 2419.856 - ||grad||^2 = 391.84051\n",
      " * Iteration #7 - Loss = 2409.221 - ||grad||^2 = 333.41990\n",
      " * Iteration #8 - Loss = 2401.422 - ||grad||^2 = 284.04525\n",
      " * Iteration #9 - Loss = 2395.628 - ||grad||^2 = 242.16562\n",
      " * Iteration #10 - Loss = 2391.394 - ||grad||^2 = 206.56259\n",
      " * Iteration #11 - Loss = 2388.290 - ||grad||^2 = 176.24614\n",
      " * Iteration #12 - Loss = 2386.004 - ||grad||^2 = 150.40175\n",
      " * Iteration #13 - Loss = 2384.317 - ||grad||^2 = 128.35220\n",
      " * Iteration #14 - Loss = 2383.069 - ||grad||^2 = 109.53018\n",
      " * Iteration #15 - Loss = 2382.145 - ||grad||^2 = 93.45786\n",
      " * Iteration #16 - Loss = 2381.461 - ||grad||^2 = 79.73109\n",
      " * Iteration #17 - Loss = 2380.954 - ||grad||^2 = 68.00699\n",
      " * Iteration #18 - Loss = 2380.579 - ||grad||^2 = 57.99387\n",
      " * Iteration #19 - Loss = 2380.301 - ||grad||^2 = 49.44320\n",
      " * Iteration #20 - Loss = 2380.095 - ||grad||^2 = 42.14282\n",
      " * Iteration #21 - Loss = 2379.944 - ||grad||^2 = 35.91144\n",
      " * Iteration #22 - Loss = 2379.832 - ||grad||^2 = 30.59400\n",
      " * Iteration #23 - Loss = 2379.750 - ||grad||^2 = 26.05783\n",
      " * Iteration #24 - Loss = 2379.689 - ||grad||^2 = 22.18931\n",
      " * Iteration #25 - Loss = 2379.645 - ||grad||^2 = 18.89121\n",
      " * Iteration #26 - Loss = 2379.612 - ||grad||^2 = 16.08026\n",
      " * Iteration #27 - Loss = 2379.589 - ||grad||^2 = 13.68519\n",
      " * Iteration #28 - Loss = 2379.571 - ||grad||^2 = 11.64503\n",
      " * Iteration #29 - Loss = 2379.559 - ||grad||^2 = 9.90762\n",
      " * Iteration #30 - Loss = 2379.549 - ||grad||^2 = 8.42837\n",
      " * Iteration #31 - Loss = 2379.543 - ||grad||^2 = 7.16919\n",
      " * Iteration #32 - Loss = 2379.538 - ||grad||^2 = 6.09754\n",
      " * Iteration #33 - Loss = 2379.534 - ||grad||^2 = 5.18564\n",
      " * Iteration #34 - Loss = 2379.532 - ||grad||^2 = 4.40979\n",
      " * Iteration #35 - Loss = 2379.530 - ||grad||^2 = 3.74978\n",
      " * Iteration #36 - Loss = 2379.528 - ||grad||^2 = 3.18837\n",
      " * Iteration #37 - Loss = 2379.527 - ||grad||^2 = 2.71089\n",
      " * Iteration #38 - Loss = 2379.527 - ||grad||^2 = 2.30482\n",
      " * Iteration #39 - Loss = 2379.526 - ||grad||^2 = 1.95950\n",
      " * Iteration #40 - Loss = 2379.526 - ||grad||^2 = 1.66587\n",
      " * Iteration #41 - Loss = 2379.525 - ||grad||^2 = 1.41621\n",
      " * Iteration #42 - Loss = 2379.525 - ||grad||^2 = 1.20393\n",
      " * Iteration #43 - Loss = 2379.525 - ||grad||^2 = 1.02346\n",
      " * Iteration #44 - Loss = 2379.525 - ||grad||^2 = 0.87002\n",
      " * Iteration #45 - Loss = 2379.525 - ||grad||^2 = 0.73958\n",
      " * Iteration #46 - Loss = 2379.525 - ||grad||^2 = 0.62868\n",
      " * Iteration #47 - Loss = 2379.525 - ||grad||^2 = 0.53441\n",
      " * Iteration #48 - Loss = 2379.525 - ||grad||^2 = 0.45427\n",
      " * Iteration #49 - Loss = 2379.525 - ||grad||^2 = 0.38615\n",
      " * Iteration #50 - Loss = 2379.525 - ||grad||^2 = 0.32824\n",
      " * Iteration #51 - Loss = 2379.525 - ||grad||^2 = 0.27901\n",
      " * Iteration #52 - Loss = 2379.525 - ||grad||^2 = 0.23716\n",
      " * Iteration #53 - Loss = 2379.525 - ||grad||^2 = 0.20159\n",
      " * Iteration #54 - Loss = 2379.525 - ||grad||^2 = 0.17136\n",
      " * Iteration #55 - Loss = 2379.525 - ||grad||^2 = 0.14566\n",
      " * Iteration #56 - Loss = 2379.525 - ||grad||^2 = 0.12381\n",
      " * Iteration #57 - Loss = 2379.525 - ||grad||^2 = 0.10524\n",
      " * Iteration #58 - Loss = 2379.525 - ||grad||^2 = 0.08945\n",
      " * Iteration #59 - Loss = 2379.525 - ||grad||^2 = 0.07604\n",
      " * Iteration #60 - Loss = 2379.525 - ||grad||^2 = 0.06463\n",
      " * Iteration #61 - Loss = 2379.525 - ||grad||^2 = 0.05494\n",
      " * Iteration #62 - Loss = 2379.525 - ||grad||^2 = 0.04670\n",
      " * Iteration #63 - Loss = 2379.525 - ||grad||^2 = 0.03969\n",
      " * Iteration #64 - Loss = 2379.525 - ||grad||^2 = 0.03374\n",
      " * Iteration #65 - Loss = 2379.525 - ||grad||^2 = 0.02868\n",
      " * Iteration #66 - Loss = 2379.525 - ||grad||^2 = 0.02438\n",
      " * Iteration #67 - Loss = 2379.525 - ||grad||^2 = 0.02072\n",
      " * Iteration #68 - Loss = 2379.525 - ||grad||^2 = 0.01761\n",
      " * Iteration #69 - Loss = 2379.525 - ||grad||^2 = 0.01497\n",
      " * Iteration #70 - Loss = 2379.525 - ||grad||^2 = 0.01272\n",
      " * Iteration #71 - Loss = 2379.525 - ||grad||^2 = 0.01082\n",
      " * Iteration #72 - Loss = 2379.525 - ||grad||^2 = 0.00919\n",
      " * Iteration #73 - Loss = 2379.525 - ||grad||^2 = 0.00781\n",
      " * Iteration #74 - Loss = 2379.525 - ||grad||^2 = 0.00664\n",
      " * Iteration #75 - Loss = 2379.525 - ||grad||^2 = 0.00565\n",
      " * Iteration #76 - Loss = 2379.525 - ||grad||^2 = 0.00480\n",
      " * Iteration #77 - Loss = 2379.525 - ||grad||^2 = 0.00408\n",
      " * Iteration #78 - Loss = 2379.525 - ||grad||^2 = 0.00347\n",
      " * Iteration #79 - Loss = 2379.525 - ||grad||^2 = 0.00295\n",
      " * Iteration #80 - Loss = 2379.525 - ||grad||^2 = 0.00251\n",
      " * Iteration #81 - Loss = 2379.525 - ||grad||^2 = 0.00213\n",
      " * Iteration #82 - Loss = 2379.525 - ||grad||^2 = 0.00181\n",
      " * Iteration #83 - Loss = 2379.525 - ||grad||^2 = 0.00154\n",
      " * Iteration #84 - Loss = 2379.525 - ||grad||^2 = 0.00131\n",
      " * Iteration #85 - Loss = 2379.525 - ||grad||^2 = 0.00111\n",
      " * Iteration #86 - Loss = 2379.525 - ||grad||^2 = 0.00094\n",
      "Converged after 86 iterations.\n"
     ]
    }
   ],
   "source": [
    "#Retrain model with train + test sets\n",
    "\n",
    "X_data = pd.concat([X_train, X_test])\n",
    "y_data = pd.concat([y_train, y_test])\n",
    "T_data = y_data['months_survival'].values\n",
    "D_data = y_data['specific_death'].values\n",
    "\n",
    "estimator = coxph.fit(X_data, T_data, D_data, lr=0.15, l2_reg=1e-2, init_method='zeros')"
   ]
  },
  {
   "cell_type": "markdown",
   "metadata": {},
   "source": [
    "Let us now plot the survival curve so as to check that we have obtained reasonable results."
   ]
  },
  {
   "cell_type": "code",
   "execution_count": 19,
   "metadata": {},
   "outputs": [
    {
     "data": {
      "image/png": "[encoded data removed]",
      "text/plain": [
       "<Figure size 576x720 with 1 Axes>"
      ]
     },
     "metadata": {
      "needs_background": "light"
     },
     "output_type": "display_data"
    }
   ],
   "source": [
    "# Plot survival curves for certain observations (here we take first 3 observations)\n",
    "for curve in predictions.values[0:3]:\n",
    "    plt.step(times, curve, where=\"post\")"
   ]
  },
  {
   "cell_type": "markdown",
   "metadata": {},
   "source": [
    "# Save the information regarding the model"
   ]
  },
  {
   "cell_type": "code",
   "execution_count": 21,
   "metadata": {},
   "outputs": [
    {
     "name": "stdout",
     "output_type": "stream",
     "text": [
      "Saving the model to disk as /home/vant/Tera/Assignatures/AgileDataScience/Project/Nuria/Cox_model.zip\n"
     ]
    }
   ],
   "source": [
    "from pysurvival.utils import save_model\n",
    "save_model(estimator, '/home/vant/Tera/Assignatures/AgileDataScience/Project/Nuria/Cox_model.zip')\n",
    "\n",
    "pd.DataFrame(selected_columns).to_csv(\"Features_Cox_model.csv\")"
   ]
  },
  {
   "cell_type": "code",
   "execution_count": null,
   "metadata": {},
   "outputs": [],
   "source": []
  }
 ],
 "metadata": {
  "kernelspec": {
   "display_name": "Python [conda env:AgileDataScience]",
   "language": "python",
   "name": "conda-env-AgileDataScience-py"
  },
  "language_info": {
   "codemirror_mode": {
    "name": "ipython",
    "version": 3
   },
   "file_extension": ".py",
   "mimetype": "text/x-python",
   "name": "python",
   "nbconvert_exporter": "python",
   "pygments_lexer": "ipython3",
   "version": "3.7.4"
  }
 },
 "nbformat": 4,
 "nbformat_minor": 2
}
