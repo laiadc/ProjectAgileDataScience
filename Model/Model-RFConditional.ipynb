{
 "cells": [
  {
   "cell_type": "code",
   "execution_count": 1,
   "metadata": {
    "scrolled": false
   },
   "outputs": [],
   "source": [
    "import pandas as pd\n",
    "import numpy as np\n",
    "import warnings\n",
    "import matplotlib.pyplot as plt\n",
    "warnings.simplefilter('ignore')\n",
    "\n",
    "from missingpy import KNNImputer\n",
    "from missing import missingData\n",
    "import error_function\n",
    "from encoding import binary_encoding, target_encoding\n",
    "from lasso import rmse_cv,Lasso_importance\n",
    "from normalization import normalization\n",
    "\n",
    "\n",
    "import matplotlib.pyplot as plt\n",
    "from sklearn.model_selection import train_test_split\n",
    "import sklearn\n",
    "\n",
    "from pysurvival.models.survival_forest import ConditionalSurvivalForestModel#pip install pysurvival\n",
    "from pysurvival.utils.metrics import concordance_index\n",
    "from pysurvival.utils.display import integrated_brier_score"
   ]
  },
  {
   "cell_type": "markdown",
   "metadata": {},
   "source": [
    "Conditional Random Forest model:\n",
    "https://square.github.io/pysurvival/models/survival_forest.html\n",
    "\n",
    "Steps:\n",
    "1. clean the data (missing data + binary/target encoding + normalization)\n",
    "2. select the columns with lasso regression\n",
    "3. train a ExtraST model\n",
    "4. compute the error\n",
    "5. reselect the columns with high importance\n",
    "6. retrain the model\n",
    "7. compute final error and final selected features\n",
    "8. train the model with the whole dataset\n",
    "9. export the model and features."
   ]
  },
  {
   "cell_type": "code",
   "execution_count": 2,
   "metadata": {},
   "outputs": [],
   "source": [
    "train = pd.read_csv(\"data/train.csv\")\n",
    "test = pd.read_csv(\"data/test.csv\")\n",
    "\n",
    "train = missingData(train)\n",
    "\n",
    "test = missingData(test)"
   ]
  },
  {
   "cell_type": "code",
   "execution_count": 3,
   "metadata": {},
   "outputs": [],
   "source": [
    "#Encoding (binary + target)\n",
    "train,test = binary_encoding(train, test)\n",
    "train,test = target_encoding(train, test)"
   ]
  },
  {
   "cell_type": "code",
   "execution_count": 4,
   "metadata": {},
   "outputs": [],
   "source": [
    "#Get years from T0_date \n",
    "train.T0_date = pd.to_datetime(train.T0_date).dt.year\n",
    "train.T0_date = train.T0_date.astype(float)\n",
    "test.T0_date = pd.to_datetime(test.T0_date).dt.year\n",
    "test.T0_date = test.T0_date.astype(float)\n",
    "\n",
    "#Separate target and X\n",
    "y_data = train[[ \"specific_death\", \"months_survival\"]]\n",
    "\n",
    "X_data = train.drop([\"specific_death\", \"months_survival\"], axis=1)\n"
   ]
  },
  {
   "cell_type": "code",
   "execution_count": 5,
   "metadata": {},
   "outputs": [],
   "source": [
    "#Train/test split\n",
    "\n",
    "X_train, X_test, y_train, y_test = train_test_split(X_data, y_data, test_size=0.2, random_state=42)\n"
   ]
  },
  {
   "cell_type": "code",
   "execution_count": 6,
   "metadata": {},
   "outputs": [],
   "source": [
    "#Normalization\n",
    "X_train,X_test = normalization(X_train, X_test)\n",
    "X_train.drop(['ID'],axis=1, inplace=True)"
   ]
  },
  {
   "cell_type": "code",
   "execution_count": 7,
   "metadata": {
    "scrolled": true
   },
   "outputs": [
    {
     "data": {
      "text/html": [
       "<div>\n",
       "<style scoped>\n",
       "    .dataframe tbody tr th:only-of-type {\n",
       "        vertical-align: middle;\n",
       "    }\n",
       "\n",
       "    .dataframe tbody tr th {\n",
       "        vertical-align: top;\n",
       "    }\n",
       "\n",
       "    .dataframe thead th {\n",
       "        text-align: right;\n",
       "    }\n",
       "</style>\n",
       "<table border=\"1\" class=\"dataframe\">\n",
       "  <thead>\n",
       "    <tr style=\"text-align: right;\">\n",
       "      <th></th>\n",
       "      <th>ID</th>\n",
       "      <th>patient_gender</th>\n",
       "      <th>patient_eye_color</th>\n",
       "      <th>patient_hair_color</th>\n",
       "      <th>patient_phototype</th>\n",
       "      <th>primary_tumour_location_coded</th>\n",
       "      <th>T0_date</th>\n",
       "      <th>cutaneous_biopsy_breslow</th>\n",
       "      <th>cutaneous_biopsy_ulceration</th>\n",
       "      <th>cutaneous_biopsy_satellitosis</th>\n",
       "      <th>...</th>\n",
       "      <th>LAB2679</th>\n",
       "      <th>LAB4176</th>\n",
       "      <th>neutrofils_per_limfocits</th>\n",
       "      <th>limfocits_per_monocits</th>\n",
       "      <th>LABGF_filtrat_glomerular</th>\n",
       "      <th>missLymp</th>\n",
       "      <th>missLAB</th>\n",
       "      <th>missBIO</th>\n",
       "      <th>missBIO2</th>\n",
       "      <th>missNEU</th>\n",
       "    </tr>\n",
       "  </thead>\n",
       "  <tbody>\n",
       "    <tr>\n",
       "      <th>1159</th>\n",
       "      <td>ID3610</td>\n",
       "      <td>0</td>\n",
       "      <td>0.000000</td>\n",
       "      <td>0.000000</td>\n",
       "      <td>0.00</td>\n",
       "      <td>0.454397</td>\n",
       "      <td>0.002481</td>\n",
       "      <td>0.065185</td>\n",
       "      <td>103.138839</td>\n",
       "      <td>0</td>\n",
       "      <td>...</td>\n",
       "      <td>0.000000</td>\n",
       "      <td>0.000000</td>\n",
       "      <td>0.000000</td>\n",
       "      <td>0.000000</td>\n",
       "      <td>0.00000</td>\n",
       "      <td>0.0</td>\n",
       "      <td>1.0</td>\n",
       "      <td>1.0</td>\n",
       "      <td>1.0</td>\n",
       "      <td>1.0</td>\n",
       "    </tr>\n",
       "    <tr>\n",
       "      <th>2017</th>\n",
       "      <td>ID7802</td>\n",
       "      <td>0</td>\n",
       "      <td>0.000000</td>\n",
       "      <td>0.000000</td>\n",
       "      <td>0.00</td>\n",
       "      <td>0.189758</td>\n",
       "      <td>0.007940</td>\n",
       "      <td>0.002222</td>\n",
       "      <td>103.138839</td>\n",
       "      <td>0</td>\n",
       "      <td>...</td>\n",
       "      <td>0.000000</td>\n",
       "      <td>0.000000</td>\n",
       "      <td>0.000000</td>\n",
       "      <td>0.000000</td>\n",
       "      <td>0.00000</td>\n",
       "      <td>0.0</td>\n",
       "      <td>1.0</td>\n",
       "      <td>0.0</td>\n",
       "      <td>0.0</td>\n",
       "      <td>1.0</td>\n",
       "    </tr>\n",
       "    <tr>\n",
       "      <th>978</th>\n",
       "      <td>ID3104</td>\n",
       "      <td>1</td>\n",
       "      <td>0.240237</td>\n",
       "      <td>0.140584</td>\n",
       "      <td>0.75</td>\n",
       "      <td>0.396445</td>\n",
       "      <td>0.002978</td>\n",
       "      <td>0.064444</td>\n",
       "      <td>103.138839</td>\n",
       "      <td>0</td>\n",
       "      <td>...</td>\n",
       "      <td>0.000000</td>\n",
       "      <td>0.000000</td>\n",
       "      <td>0.000000</td>\n",
       "      <td>0.000000</td>\n",
       "      <td>0.00000</td>\n",
       "      <td>0.0</td>\n",
       "      <td>1.0</td>\n",
       "      <td>0.0</td>\n",
       "      <td>0.0</td>\n",
       "      <td>1.0</td>\n",
       "    </tr>\n",
       "    <tr>\n",
       "      <th>759</th>\n",
       "      <td>ID2540</td>\n",
       "      <td>1</td>\n",
       "      <td>0.000000</td>\n",
       "      <td>0.000000</td>\n",
       "      <td>0.00</td>\n",
       "      <td>0.191452</td>\n",
       "      <td>0.000496</td>\n",
       "      <td>0.005926</td>\n",
       "      <td>103.138839</td>\n",
       "      <td>0</td>\n",
       "      <td>...</td>\n",
       "      <td>0.000000</td>\n",
       "      <td>0.000000</td>\n",
       "      <td>0.000000</td>\n",
       "      <td>0.000000</td>\n",
       "      <td>0.00000</td>\n",
       "      <td>0.0</td>\n",
       "      <td>1.0</td>\n",
       "      <td>0.0</td>\n",
       "      <td>0.0</td>\n",
       "      <td>1.0</td>\n",
       "    </tr>\n",
       "    <tr>\n",
       "      <th>874</th>\n",
       "      <td>ID2827</td>\n",
       "      <td>1</td>\n",
       "      <td>0.000000</td>\n",
       "      <td>0.000000</td>\n",
       "      <td>0.00</td>\n",
       "      <td>0.191452</td>\n",
       "      <td>0.002978</td>\n",
       "      <td>0.002222</td>\n",
       "      <td>103.138839</td>\n",
       "      <td>0</td>\n",
       "      <td>...</td>\n",
       "      <td>0.005531</td>\n",
       "      <td>0.051429</td>\n",
       "      <td>0.103756</td>\n",
       "      <td>0.170977</td>\n",
       "      <td>0.72893</td>\n",
       "      <td>0.0</td>\n",
       "      <td>0.0</td>\n",
       "      <td>0.0</td>\n",
       "      <td>0.0</td>\n",
       "      <td>0.0</td>\n",
       "    </tr>\n",
       "  </tbody>\n",
       "</table>\n",
       "<p>5 rows × 55 columns</p>\n",
       "</div>"
      ],
      "text/plain": [
       "          ID  patient_gender  patient_eye_color  patient_hair_color  \\\n",
       "1159  ID3610               0           0.000000            0.000000   \n",
       "2017  ID7802               0           0.000000            0.000000   \n",
       "978   ID3104               1           0.240237            0.140584   \n",
       "759   ID2540               1           0.000000            0.000000   \n",
       "874   ID2827               1           0.000000            0.000000   \n",
       "\n",
       "      patient_phototype  primary_tumour_location_coded   T0_date  \\\n",
       "1159               0.00                       0.454397  0.002481   \n",
       "2017               0.00                       0.189758  0.007940   \n",
       "978                0.75                       0.396445  0.002978   \n",
       "759                0.00                       0.191452  0.000496   \n",
       "874                0.00                       0.191452  0.002978   \n",
       "\n",
       "      cutaneous_biopsy_breslow  cutaneous_biopsy_ulceration  \\\n",
       "1159                  0.065185                   103.138839   \n",
       "2017                  0.002222                   103.138839   \n",
       "978                   0.064444                   103.138839   \n",
       "759                   0.005926                   103.138839   \n",
       "874                   0.002222                   103.138839   \n",
       "\n",
       "      cutaneous_biopsy_satellitosis  ...   LAB2679   LAB4176  \\\n",
       "1159                              0  ...  0.000000  0.000000   \n",
       "2017                              0  ...  0.000000  0.000000   \n",
       "978                               0  ...  0.000000  0.000000   \n",
       "759                               0  ...  0.000000  0.000000   \n",
       "874                               0  ...  0.005531  0.051429   \n",
       "\n",
       "      neutrofils_per_limfocits  limfocits_per_monocits  \\\n",
       "1159                  0.000000                0.000000   \n",
       "2017                  0.000000                0.000000   \n",
       "978                   0.000000                0.000000   \n",
       "759                   0.000000                0.000000   \n",
       "874                   0.103756                0.170977   \n",
       "\n",
       "      LABGF_filtrat_glomerular  missLymp  missLAB  missBIO  missBIO2  missNEU  \n",
       "1159                   0.00000       0.0      1.0      1.0       1.0      1.0  \n",
       "2017                   0.00000       0.0      1.0      0.0       0.0      1.0  \n",
       "978                    0.00000       0.0      1.0      0.0       0.0      1.0  \n",
       "759                    0.00000       0.0      1.0      0.0       0.0      1.0  \n",
       "874                    0.72893       0.0      0.0      0.0       0.0      0.0  \n",
       "\n",
       "[5 rows x 55 columns]"
      ]
     },
     "execution_count": 7,
     "metadata": {},
     "output_type": "execute_result"
    }
   ],
   "source": [
    "X_test.head()"
   ]
  },
  {
   "cell_type": "code",
   "execution_count": 8,
   "metadata": {},
   "outputs": [
    {
     "name": "stdout",
     "output_type": "stream",
     "text": [
      "Lasso picked 52 variables and eliminated the other 2 variables\n",
      "patient_gender                    -2.037778\n",
      "patient_eye_color                109.120940\n",
      "patient_hair_color                 5.508829\n",
      "patient_phototype                  3.744109\n",
      "primary_tumour_location_coded     52.801253\n",
      "dtype: float64\n"
     ]
    },
    {
     "data": {
      "image/png": "[encoded data removed]",
      "text/plain": [
       "<Figure size 576x720 with 1 Axes>"
      ]
     },
     "metadata": {
      "needs_background": "light"
     },
     "output_type": "display_data"
    }
   ],
   "source": [
    "# Feature selection\n",
    "\n",
    "coefs = Lasso_importance(X_train, y_train.months_survival)"
   ]
  },
  {
   "cell_type": "code",
   "execution_count": 9,
   "metadata": {
    "scrolled": true
   },
   "outputs": [],
   "source": [
    "coefs.sort_values(ascending=False, inplace=True)\n"
   ]
  },
  {
   "cell_type": "code",
   "execution_count": 10,
   "metadata": {},
   "outputs": [],
   "source": [
    "selected_columns = coefs[np.abs(coefs)>0].index"
   ]
  },
  {
   "cell_type": "code",
   "execution_count": 11,
   "metadata": {},
   "outputs": [],
   "source": [
    "X_train_selected = X_train[selected_columns]\n",
    "X_test_selected = X_test[selected_columns]"
   ]
  },
  {
   "cell_type": "code",
   "execution_count": 12,
   "metadata": {},
   "outputs": [],
   "source": [
    "def fit_model(x_train, y_train,x_test,y_test, plot=True):\n",
    "    # Building the model\n",
    "    crsf = ConditionalSurvivalForestModel(num_trees=200)\n",
    "    # Fit model\n",
    "    crsf.fit(x_train, y_train.months_survival.values, y_train.specific_death.values,\n",
    "            max_features=\"sqrt\", max_depth=50, min_node_size=10, seed=42)\n",
    "    if plot:\n",
    "        #### - Cross Validation / Model Performances\n",
    "        c_index = concordance_index(crsf,  x_test.values, y_test.months_survival.values,y_test.specific_death.values) #0.81\n",
    "        print('C-index: {:.2f}'.format(c_index))\n",
    "\n",
    "\n",
    "        ibs = integrated_brier_score(crsf, x_test.values, y_test.months_survival.values,y_test.specific_death.values\n",
    "                    , t_max=30,figure_size=(20, 6.5) )\n",
    "        print('IBS: {:.2f}'.format(ibs))\n",
    "\n",
    "    return crsf"
   ]
  },
  {
   "cell_type": "code",
   "execution_count": 13,
   "metadata": {
    "scrolled": false
   },
   "outputs": [
    {
     "name": "stdout",
     "output_type": "stream",
     "text": [
      "C-index: 0.75\n"
     ]
    },
    {
     "data": {
      "image/png": "[encoded data removed]",
      "text/plain": [
       "<Figure size 1440x468 with 1 Axes>"
      ]
     },
     "metadata": {
      "needs_background": "light"
     },
     "output_type": "display_data"
    },
    {
     "name": "stdout",
     "output_type": "stream",
     "text": [
      "IBS: 0.02\n"
     ]
    }
   ],
   "source": [
    "estimator = fit_model(X_train_selected, y_train, X_test_selected,y_test)"
   ]
  },
  {
   "cell_type": "code",
   "execution_count": 14,
   "metadata": {},
   "outputs": [],
   "source": [
    "def get_probabilities(x_test, estimator):\n",
    "    \n",
    "    # Create an empty pandas dataframes with these times as the columns\n",
    "    pred = estimator.predict_survival(x_test.values[0, :]).flatten()\n",
    "    times = np.arange(pred.shape[0])\n",
    "    pred_df = pd.DataFrame(columns = times )\n",
    "    \n",
    "    # Convert each row to a pandas series row (transpose) with the index as these x times and append it to the df\n",
    "    for i in range(0,len(x_test)):\n",
    "        pred = estimator.predict_survival(x_test.values[i, :])\n",
    "        pred_df = pred_df.append(pd.DataFrame(pred)) \n",
    "\n",
    "    pred_df = pred_df.set_index(np.arange(pred_df.shape[0]))\n",
    "\n",
    "    return pred_df,times"
   ]
  },
  {
   "cell_type": "code",
   "execution_count": 15,
   "metadata": {
    "scrolled": true
   },
   "outputs": [],
   "source": [
    "#  store the probability curves\n",
    "predictions,times = get_probabilities(X_test_selected, estimator)"
   ]
  },
  {
   "cell_type": "code",
   "execution_count": 16,
   "metadata": {},
   "outputs": [
    {
     "name": "stdout",
     "output_type": "stream",
     "text": [
      "Overall error:  0.06342351765275091\n"
     ]
    }
   ],
   "source": [
    "#Calculate error\n",
    "\n",
    "weights = error_function.calc_weights(y_test) \n",
    "error = error_function.brier_score_loss_weighted(pred = predictions,actual = y_test, weights = weights)\n",
    "\n",
    "\n",
    "print(\"Overall error: \", error)\n"
   ]
  },
  {
   "cell_type": "code",
   "execution_count": 17,
   "metadata": {
    "scrolled": false
   },
   "outputs": [],
   "source": [
    "importance = pd.DataFrame(estimator.variable_importance.values(), index =  estimator.variable_importance.keys(),\n",
    "                          columns =['importance'])\n",
    "importance.sort_values(by=\"importance\", ascending=False, inplace=True)\n",
    "\n",
    "selected_columns = importance[abs(importance.importance)>1].index"
   ]
  },
  {
   "cell_type": "code",
   "execution_count": 18,
   "metadata": {},
   "outputs": [
    {
     "name": "stdout",
     "output_type": "stream",
     "text": [
      "C-index: 0.74\n"
     ]
    },
    {
     "data": {
      "image/png": "[encoded data removed]",
      "text/plain": [
       "<Figure size 1440x468 with 1 Axes>"
      ]
     },
     "metadata": {
      "needs_background": "light"
     },
     "output_type": "display_data"
    },
    {
     "name": "stdout",
     "output_type": "stream",
     "text": [
      "IBS: 0.02\n",
      "Overall error:  0.06198216423335951\n"
     ]
    },
    {
     "data": {
      "text/plain": [
       "Index(['cutaneous_biopsy_breslow', 'cutaneous_biopsy_histological_subtype',\n",
       "       'total_positives_slnb_ldn', 'scenario', 'total_count_slnb_ldn',\n",
       "       'cutaneous_biopsy_ulceration', 'patient_hair_color',\n",
       "       'patient_phototype', 'patient_eye_color', 'age',\n",
       "       'cutaneous_biopsy_mitotic_index', 'patient_gender', 'missNEU',\n",
       "       'LAB1314', 'LAB2405', 'LAB2406', 'visceral_metastasis_location',\n",
       "       'T0_date', 'limfocits_per_monocits', 'LAB1309', 'MC1R',\n",
       "       'neutrofils_per_limfocits', 'missBIO2', 'LAB2679',\n",
       "       'cutaneous_biopsy_regression', 'missLAB', 'LAB2407',\n",
       "       'cutaneous_biopsy_lymphatic_invasion', 'LAB2467',\n",
       "       'cutaneous_biopsy_vascular_invasion', 'LABGF_filtrat_glomerular',\n",
       "       'cutaneous_biopsy_associated_nevus', 'LAB4176', 'LAB2404',\n",
       "       'count_inv_prec_tumour', 'primary_tumour_location_coded'],\n",
       "      dtype='object')"
      ]
     },
     "execution_count": 18,
     "metadata": {},
     "output_type": "execute_result"
    },
    {
     "data": {
      "image/png": "[encoded data removed]",
      "text/plain": [
       "<Figure size 576x720 with 1 Axes>"
      ]
     },
     "metadata": {
      "needs_background": "light"
     },
     "output_type": "display_data"
    }
   ],
   "source": [
    "#We reselcet the columns with high importance and retrain the model to decrease the complexity of the model\n",
    "X_train_selected = X_train[selected_columns]\n",
    "X_test_selected = X_test[selected_columns]\n",
    "\n",
    "estimator = fit_model(X_train_selected, y_train, X_test_selected,y_test)\n",
    "\n",
    "predictions,times = get_probabilities(X_test_selected, estimator)\n",
    "\n",
    "# Plot survival curves for certain observations (here we take first 3 observations)\n",
    "for curve in predictions.values[0:3]:\n",
    "    plt.step(times, curve, where=\"post\")\n",
    "    \n",
    "weights = error_function.calc_weights(y_test) \n",
    "error = error_function.brier_score_loss_weighted(pred = predictions,actual = y_test, weights = weights)\n",
    "\n",
    "\n",
    "print(\"Overall error: \", error)\n",
    "\n",
    "selected_columns"
   ]
  },
  {
   "cell_type": "code",
   "execution_count": 19,
   "metadata": {},
   "outputs": [],
   "source": [
    "#Retrain model with train + test sets\n",
    "\n",
    "X_data = pd.concat([X_train_selected,X_test_selected])\n",
    "y_data = pd.concat([y_train,y_test])\n",
    "estimator = fit_model(X_data, y_data, X_test_selected,y_test, plot=False)\n"
   ]
  },
  {
   "cell_type": "code",
   "execution_count": 22,
   "metadata": {},
   "outputs": [
    {
     "name": "stdout",
     "output_type": "stream",
     "text": [
      "Saving the model to disk as /home/laia/Escriptori/Master/Agile Data Science/Project/CRF_model.zip\n"
     ]
    }
   ],
   "source": [
    "from pysurvival.utils import save_model\n",
    "save_model(estimator, '/home/laia/Escriptori/Master/Agile Data Science/Project/CRF_model.zip')\n",
    "\n",
    "pd.DataFrame(selected_columns).to_csv(\"Features_CRF_model.csv\")"
   ]
  },
  {
   "cell_type": "code",
   "execution_count": 21,
   "metadata": {},
   "outputs": [
    {
     "name": "stdout",
     "output_type": "stream",
     "text": [
      "Loading the model from /home/laia/Escriptori/Master/Agile Data Science/Project/CRF_model.zip\n"
     ]
    }
   ],
   "source": [
    "from pysurvival.utils import load_model\n",
    "estimator_loaded = load_model('/home/laia/Escriptori/Master/Agile Data Science/Project/CRF_model.zip')"
   ]
  },
  {
   "cell_type": "code",
   "execution_count": null,
   "metadata": {},
   "outputs": [],
   "source": []
  }
 ],
 "metadata": {
  "kernelspec": {
   "display_name": "Python 3",
   "language": "python",
   "name": "python3"
  },
  "language_info": {
   "codemirror_mode": {
    "name": "ipython",
    "version": 3
   },
   "file_extension": ".py",
   "mimetype": "text/x-python",
   "name": "python",
   "nbconvert_exporter": "python",
   "pygments_lexer": "ipython3",
   "version": "3.7.3"
  }
 },
 "nbformat": 4,
 "nbformat_minor": 2
}
