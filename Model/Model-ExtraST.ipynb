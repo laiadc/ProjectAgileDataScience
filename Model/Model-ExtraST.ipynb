{
 "cells": [
  {
   "cell_type": "code",
   "execution_count": 1,
   "metadata": {
    "scrolled": false
   },
   "outputs": [],
   "source": [
    "import pandas as pd\n",
    "import numpy as np\n",
    "import warnings\n",
    "import matplotlib.pyplot as plt\n",
    "warnings.simplefilter('ignore')\n",
    "\n",
    "from missingpy import KNNImputer\n",
    "from cleaning import cleaning\n",
    "import error_function\n",
    "\n",
    "from lasso import rmse_cv,Lasso_importance\n",
    "\n",
    "import matplotlib.pyplot as plt\n",
    "from sklearn.model_selection import train_test_split\n",
    "import sklearn\n",
    "\n",
    "from pysurvival.models.survival_forest import ExtraSurvivalTreesModel#pip install pysurvival\n",
    "from pysurvival.utils.metrics import concordance_index\n",
    "from pysurvival.utils.display import integrated_brier_score"
   ]
  },
  {
   "cell_type": "markdown",
   "metadata": {},
   "source": [
    "Extra survival trees model:\n",
    "https://square.github.io/pysurvival/models/survival_forest.html\n",
    "\n",
    "Steps:\n",
    "1. clean the data (missing data + binary/target encoding + normalization)\n",
    "2. select the columns with lasso regression\n",
    "3. train a ExtraST model\n",
    "4. compute the error\n",
    "5. reselect the columns with high importance\n",
    "6. retrain the model\n",
    "7. compute final error and final selected features\n",
    "8. train the model with the whole dataset\n",
    "9. export the model and features."
   ]
  },
  {
   "cell_type": "code",
   "execution_count": 2,
   "metadata": {},
   "outputs": [],
   "source": [
    "X_train, X_test, y_train, y_test = cleaning('train.csv', 0.2)\n"
   ]
  },
  {
   "cell_type": "code",
   "execution_count": 3,
   "metadata": {
    "scrolled": true
   },
   "outputs": [
    {
     "data": {
      "text/html": [
       "<div>\n",
       "<style scoped>\n",
       "    .dataframe tbody tr th:only-of-type {\n",
       "        vertical-align: middle;\n",
       "    }\n",
       "\n",
       "    .dataframe tbody tr th {\n",
       "        vertical-align: top;\n",
       "    }\n",
       "\n",
       "    .dataframe thead th {\n",
       "        text-align: right;\n",
       "    }\n",
       "</style>\n",
       "<table border=\"1\" class=\"dataframe\">\n",
       "  <thead>\n",
       "    <tr style=\"text-align: right;\">\n",
       "      <th></th>\n",
       "      <th>patient_gender</th>\n",
       "      <th>patient_eye_color</th>\n",
       "      <th>patient_hair_color</th>\n",
       "      <th>patient_phototype</th>\n",
       "      <th>primary_tumour_location_coded</th>\n",
       "      <th>T0_date</th>\n",
       "      <th>cutaneous_biopsy_breslow</th>\n",
       "      <th>cutaneous_biopsy_ulceration</th>\n",
       "      <th>cutaneous_biopsy_satellitosis</th>\n",
       "      <th>cutaneous_biopsy_vascular_invasion</th>\n",
       "      <th>...</th>\n",
       "      <th>LAB2679</th>\n",
       "      <th>LAB4176</th>\n",
       "      <th>neutrofils_per_limfocits</th>\n",
       "      <th>limfocits_per_monocits</th>\n",
       "      <th>LABGF_filtrat_glomerular</th>\n",
       "      <th>missLymp</th>\n",
       "      <th>missLAB</th>\n",
       "      <th>missBIO</th>\n",
       "      <th>missBIO2</th>\n",
       "      <th>missNEU</th>\n",
       "    </tr>\n",
       "  </thead>\n",
       "  <tbody>\n",
       "    <tr>\n",
       "      <th>1159</th>\n",
       "      <td>1</td>\n",
       "      <td>0.000000</td>\n",
       "      <td>0.000000</td>\n",
       "      <td>0.0</td>\n",
       "      <td>0.559139</td>\n",
       "      <td>0.002481</td>\n",
       "      <td>0.031667</td>\n",
       "      <td>103.969494</td>\n",
       "      <td>0</td>\n",
       "      <td>0</td>\n",
       "      <td>...</td>\n",
       "      <td>0.000000</td>\n",
       "      <td>0.000000</td>\n",
       "      <td>0.000000</td>\n",
       "      <td>0.000000</td>\n",
       "      <td>0.00000</td>\n",
       "      <td>0.0</td>\n",
       "      <td>1.0</td>\n",
       "      <td>1.0</td>\n",
       "      <td>1.0</td>\n",
       "      <td>1.0</td>\n",
       "    </tr>\n",
       "    <tr>\n",
       "      <th>2017</th>\n",
       "      <td>1</td>\n",
       "      <td>0.000000</td>\n",
       "      <td>0.000000</td>\n",
       "      <td>0.0</td>\n",
       "      <td>0.253265</td>\n",
       "      <td>0.007940</td>\n",
       "      <td>0.003333</td>\n",
       "      <td>103.969494</td>\n",
       "      <td>0</td>\n",
       "      <td>0</td>\n",
       "      <td>...</td>\n",
       "      <td>0.000000</td>\n",
       "      <td>0.000000</td>\n",
       "      <td>0.000000</td>\n",
       "      <td>0.000000</td>\n",
       "      <td>0.00000</td>\n",
       "      <td>0.0</td>\n",
       "      <td>1.0</td>\n",
       "      <td>0.0</td>\n",
       "      <td>0.0</td>\n",
       "      <td>1.0</td>\n",
       "    </tr>\n",
       "    <tr>\n",
       "      <th>978</th>\n",
       "      <td>0</td>\n",
       "      <td>0.225707</td>\n",
       "      <td>0.128812</td>\n",
       "      <td>0.6</td>\n",
       "      <td>0.493579</td>\n",
       "      <td>0.002978</td>\n",
       "      <td>0.031333</td>\n",
       "      <td>103.969494</td>\n",
       "      <td>0</td>\n",
       "      <td>0</td>\n",
       "      <td>...</td>\n",
       "      <td>0.000000</td>\n",
       "      <td>0.000000</td>\n",
       "      <td>0.000000</td>\n",
       "      <td>0.000000</td>\n",
       "      <td>0.00000</td>\n",
       "      <td>0.0</td>\n",
       "      <td>1.0</td>\n",
       "      <td>0.0</td>\n",
       "      <td>0.0</td>\n",
       "      <td>1.0</td>\n",
       "    </tr>\n",
       "    <tr>\n",
       "      <th>759</th>\n",
       "      <td>0</td>\n",
       "      <td>0.000000</td>\n",
       "      <td>0.000000</td>\n",
       "      <td>0.0</td>\n",
       "      <td>0.314873</td>\n",
       "      <td>0.000496</td>\n",
       "      <td>0.005000</td>\n",
       "      <td>103.969494</td>\n",
       "      <td>0</td>\n",
       "      <td>0</td>\n",
       "      <td>...</td>\n",
       "      <td>0.000000</td>\n",
       "      <td>0.000000</td>\n",
       "      <td>0.000000</td>\n",
       "      <td>0.000000</td>\n",
       "      <td>0.00000</td>\n",
       "      <td>0.0</td>\n",
       "      <td>1.0</td>\n",
       "      <td>0.0</td>\n",
       "      <td>0.0</td>\n",
       "      <td>1.0</td>\n",
       "    </tr>\n",
       "    <tr>\n",
       "      <th>874</th>\n",
       "      <td>0</td>\n",
       "      <td>0.000000</td>\n",
       "      <td>0.000000</td>\n",
       "      <td>0.0</td>\n",
       "      <td>0.314873</td>\n",
       "      <td>0.002978</td>\n",
       "      <td>0.003333</td>\n",
       "      <td>103.969494</td>\n",
       "      <td>0</td>\n",
       "      <td>0</td>\n",
       "      <td>...</td>\n",
       "      <td>0.007364</td>\n",
       "      <td>0.132678</td>\n",
       "      <td>0.063272</td>\n",
       "      <td>0.025074</td>\n",
       "      <td>0.41237</td>\n",
       "      <td>0.0</td>\n",
       "      <td>0.0</td>\n",
       "      <td>0.0</td>\n",
       "      <td>0.0</td>\n",
       "      <td>0.0</td>\n",
       "    </tr>\n",
       "  </tbody>\n",
       "</table>\n",
       "<p>5 rows × 54 columns</p>\n",
       "</div>"
      ],
      "text/plain": [
       "      patient_gender  patient_eye_color  patient_hair_color  \\\n",
       "1159               1           0.000000            0.000000   \n",
       "2017               1           0.000000            0.000000   \n",
       "978                0           0.225707            0.128812   \n",
       "759                0           0.000000            0.000000   \n",
       "874                0           0.000000            0.000000   \n",
       "\n",
       "      patient_phototype  primary_tumour_location_coded   T0_date  \\\n",
       "1159                0.0                       0.559139  0.002481   \n",
       "2017                0.0                       0.253265  0.007940   \n",
       "978                 0.6                       0.493579  0.002978   \n",
       "759                 0.0                       0.314873  0.000496   \n",
       "874                 0.0                       0.314873  0.002978   \n",
       "\n",
       "      cutaneous_biopsy_breslow  cutaneous_biopsy_ulceration  \\\n",
       "1159                  0.031667                   103.969494   \n",
       "2017                  0.003333                   103.969494   \n",
       "978                   0.031333                   103.969494   \n",
       "759                   0.005000                   103.969494   \n",
       "874                   0.003333                   103.969494   \n",
       "\n",
       "      cutaneous_biopsy_satellitosis  cutaneous_biopsy_vascular_invasion  ...  \\\n",
       "1159                              0                                   0  ...   \n",
       "2017                              0                                   0  ...   \n",
       "978                               0                                   0  ...   \n",
       "759                               0                                   0  ...   \n",
       "874                               0                                   0  ...   \n",
       "\n",
       "       LAB2679   LAB4176  neutrofils_per_limfocits  limfocits_per_monocits  \\\n",
       "1159  0.000000  0.000000                  0.000000                0.000000   \n",
       "2017  0.000000  0.000000                  0.000000                0.000000   \n",
       "978   0.000000  0.000000                  0.000000                0.000000   \n",
       "759   0.000000  0.000000                  0.000000                0.000000   \n",
       "874   0.007364  0.132678                  0.063272                0.025074   \n",
       "\n",
       "      LABGF_filtrat_glomerular  missLymp  missLAB  missBIO  missBIO2  missNEU  \n",
       "1159                   0.00000       0.0      1.0      1.0       1.0      1.0  \n",
       "2017                   0.00000       0.0      1.0      0.0       0.0      1.0  \n",
       "978                    0.00000       0.0      1.0      0.0       0.0      1.0  \n",
       "759                    0.00000       0.0      1.0      0.0       0.0      1.0  \n",
       "874                    0.41237       0.0      0.0      0.0       0.0      0.0  \n",
       "\n",
       "[5 rows x 54 columns]"
      ]
     },
     "execution_count": 3,
     "metadata": {},
     "output_type": "execute_result"
    }
   ],
   "source": [
    "X_test.head()"
   ]
  },
  {
   "cell_type": "code",
   "execution_count": 20,
   "metadata": {},
   "outputs": [
    {
     "name": "stdout",
     "output_type": "stream",
     "text": [
      "Lasso set coefficient equal to 0 to 2 features out of 54\n"
     ]
    },
    {
     "data": {
      "image/png": "[encoded data removed]",
      "text/plain": [
       "<Figure size 576x720 with 1 Axes>"
      ]
     },
     "metadata": {
      "needs_background": "light"
     },
     "output_type": "display_data"
    }
   ],
   "source": [
    "# Feature selection\n",
    "\n",
    "coefs = Lasso_importance(X_train, y_train.months_survival)"
   ]
  },
  {
   "cell_type": "code",
   "execution_count": 21,
   "metadata": {
    "scrolled": true
   },
   "outputs": [],
   "source": [
    "coefs.sort_values(ascending=False, inplace=True)\n"
   ]
  },
  {
   "cell_type": "code",
   "execution_count": 22,
   "metadata": {},
   "outputs": [],
   "source": [
    "selected_columns = coefs[np.abs(coefs)>0].index"
   ]
  },
  {
   "cell_type": "code",
   "execution_count": 23,
   "metadata": {},
   "outputs": [],
   "source": [
    "X_train_selected = X_train[selected_columns]\n",
    "X_test_selected = X_test[selected_columns]"
   ]
  },
  {
   "cell_type": "code",
   "execution_count": 24,
   "metadata": {},
   "outputs": [],
   "source": [
    "def fit_model(x_train, y_train,x_test,y_test, plot=True):\n",
    "    # Building the model\n",
    "    xst = ExtraSurvivalTreesModel(num_trees=200)\n",
    "    # Fit model\n",
    "    xst.fit(x_train, y_train.months_survival.values, y_train.specific_death.values,\n",
    "            max_features=\"sqrt\", max_depth=50, min_node_size=10, seed=42)\n",
    "    \n",
    "    if plot:\n",
    "        #### - Cross Validation / Model Performances\n",
    "        c_index = concordance_index(xst,  x_test.values, y_test.months_survival.values,y_test.specific_death.values) #0.81\n",
    "        print('C-index: {:.2f}'.format(c_index))\n",
    "\n",
    "\n",
    "        ibs = integrated_brier_score(xst, x_test.values, y_test.months_survival.values,y_test.specific_death.values\n",
    "                    , t_max=30,figure_size=(20, 6.5) )\n",
    "        print('IBS: {:.2f}'.format(ibs))\n",
    "\n",
    "    return xst"
   ]
  },
  {
   "cell_type": "code",
   "execution_count": 25,
   "metadata": {
    "scrolled": true
   },
   "outputs": [
    {
     "name": "stdout",
     "output_type": "stream",
     "text": [
      "C-index: 0.82\n"
     ]
    },
    {
     "data": {
      "image/png": "[encoded data removed]",
      "text/plain": [
       "<Figure size 1440x468 with 1 Axes>"
      ]
     },
     "metadata": {
      "needs_background": "light"
     },
     "output_type": "display_data"
    },
    {
     "name": "stdout",
     "output_type": "stream",
     "text": [
      "IBS: 0.02\n"
     ]
    }
   ],
   "source": [
    "estimator = fit_model(X_train_selected, y_train, X_test_selected,y_test)"
   ]
  },
  {
   "cell_type": "code",
   "execution_count": 26,
   "metadata": {},
   "outputs": [],
   "source": [
    "def get_probabilities(x_test, estimator):\n",
    "    \n",
    "    # Create an empty pandas dataframes with these times as the columns\n",
    "    pred = estimator.predict_survival(x_test.values[0, :]).flatten()\n",
    "    times = np.arange(pred.shape[0])\n",
    "    pred_df = pd.DataFrame(columns = times )\n",
    "    \n",
    "    # Convert each row to a pandas series row (transpose) with the index as these x times and append it to the df\n",
    "    for i in range(0,len(x_test)):\n",
    "        pred = estimator.predict_survival(x_test.values[i, :])\n",
    "        pred_df = pred_df.append(pd.DataFrame(pred)) \n",
    "\n",
    "    pred_df = pred_df.set_index(np.arange(pred_df.shape[0]))\n",
    "\n",
    "    return pred_df,times"
   ]
  },
  {
   "cell_type": "code",
   "execution_count": 27,
   "metadata": {
    "scrolled": true
   },
   "outputs": [],
   "source": [
    "#  store the probability curves\n",
    "predictions,times = get_probabilities(X_test_selected, estimator)\n",
    "predictions2,times = get_probabilities(X_test, estimator)\n",
    "  "
   ]
  },
  {
   "cell_type": "code",
   "execution_count": 28,
   "metadata": {},
   "outputs": [
    {
     "name": "stdout",
     "output_type": "stream",
     "text": [
      "Overall error:  0.05760478560575769\n",
      "Overall error2:  0.05760478560575769\n"
     ]
    }
   ],
   "source": [
    "#Calculate error\n",
    "\n",
    "weights = error_function.calc_weights(y_test) \n",
    "error = error_function.brier_score_loss_weighted(pred = predictions,actual = y_test, weights = weights)\n",
    "error2 = error_function.brier_score_loss_weighted(pred = predictions2,actual = y_test, weights = weights)\n",
    "\n",
    "\n",
    "\n",
    "print(\"Overall error: \", error)\n",
    "print(\"Overall error2: \", error2)\n"
   ]
  },
  {
   "cell_type": "code",
   "execution_count": 29,
   "metadata": {},
   "outputs": [
    {
     "data": {
      "text/plain": [
       "(1718, 54)"
      ]
     },
     "execution_count": 29,
     "metadata": {},
     "output_type": "execute_result"
    }
   ],
   "source": [
    "X_train.shape"
   ]
  },
  {
   "cell_type": "code",
   "execution_count": 31,
   "metadata": {
    "scrolled": false
   },
   "outputs": [
    {
     "data": {
      "text/html": [
       "<div>\n",
       "<style scoped>\n",
       "    .dataframe tbody tr th:only-of-type {\n",
       "        vertical-align: middle;\n",
       "    }\n",
       "\n",
       "    .dataframe tbody tr th {\n",
       "        vertical-align: top;\n",
       "    }\n",
       "\n",
       "    .dataframe thead th {\n",
       "        text-align: right;\n",
       "    }\n",
       "</style>\n",
       "<table border=\"1\" class=\"dataframe\">\n",
       "  <thead>\n",
       "    <tr style=\"text-align: right;\">\n",
       "      <th></th>\n",
       "      <th>importance</th>\n",
       "    </tr>\n",
       "  </thead>\n",
       "  <tbody>\n",
       "    <tr>\n",
       "      <th>cutaneous_biopsy_ulceration</th>\n",
       "      <td>16.945124</td>\n",
       "    </tr>\n",
       "    <tr>\n",
       "      <th>scenario</th>\n",
       "      <td>15.520163</td>\n",
       "    </tr>\n",
       "    <tr>\n",
       "      <th>cutaneous_biopsy_histological_subtype</th>\n",
       "      <td>13.544637</td>\n",
       "    </tr>\n",
       "    <tr>\n",
       "      <th>cutaneous_biopsy_breslow</th>\n",
       "      <td>10.426852</td>\n",
       "    </tr>\n",
       "    <tr>\n",
       "      <th>total_count_slnb_ldn</th>\n",
       "      <td>8.948453</td>\n",
       "    </tr>\n",
       "    <tr>\n",
       "      <th>patient_eye_color</th>\n",
       "      <td>7.675007</td>\n",
       "    </tr>\n",
       "    <tr>\n",
       "      <th>visceral_metastasis_location</th>\n",
       "      <td>6.661023</td>\n",
       "    </tr>\n",
       "    <tr>\n",
       "      <th>age</th>\n",
       "      <td>6.592799</td>\n",
       "    </tr>\n",
       "    <tr>\n",
       "      <th>cutaneous_biopsy_lymphatic_invasion</th>\n",
       "      <td>6.444807</td>\n",
       "    </tr>\n",
       "    <tr>\n",
       "      <th>total_positives_slnb_ldn</th>\n",
       "      <td>6.149525</td>\n",
       "    </tr>\n",
       "    <tr>\n",
       "      <th>cutaneous_biopsy_mitotic_index</th>\n",
       "      <td>5.784553</td>\n",
       "    </tr>\n",
       "    <tr>\n",
       "      <th>cutaneous_biopsy_vascular_invasion</th>\n",
       "      <td>5.491489</td>\n",
       "    </tr>\n",
       "    <tr>\n",
       "      <th>patient_phototype</th>\n",
       "      <td>5.469875</td>\n",
       "    </tr>\n",
       "    <tr>\n",
       "      <th>cutaneous_biopsy_satellitosis</th>\n",
       "      <td>5.443019</td>\n",
       "    </tr>\n",
       "    <tr>\n",
       "      <th>patient_hair_color</th>\n",
       "      <td>5.146332</td>\n",
       "    </tr>\n",
       "    <tr>\n",
       "      <th>MC1R</th>\n",
       "      <td>4.607081</td>\n",
       "    </tr>\n",
       "    <tr>\n",
       "      <th>patient_gender</th>\n",
       "      <td>3.405116</td>\n",
       "    </tr>\n",
       "    <tr>\n",
       "      <th>primary_tumour_location_coded</th>\n",
       "      <td>3.389016</td>\n",
       "    </tr>\n",
       "    <tr>\n",
       "      <th>limfocits_per_monocits</th>\n",
       "      <td>3.077213</td>\n",
       "    </tr>\n",
       "    <tr>\n",
       "      <th>LAB1309</th>\n",
       "      <td>2.879435</td>\n",
       "    </tr>\n",
       "    <tr>\n",
       "      <th>cutaneous_biopsy_regression</th>\n",
       "      <td>2.868222</td>\n",
       "    </tr>\n",
       "    <tr>\n",
       "      <th>LAB1307</th>\n",
       "      <td>2.848082</td>\n",
       "    </tr>\n",
       "    <tr>\n",
       "      <th>neutrofils_per_limfocits</th>\n",
       "      <td>2.788114</td>\n",
       "    </tr>\n",
       "    <tr>\n",
       "      <th>LAB1301</th>\n",
       "      <td>2.648060</td>\n",
       "    </tr>\n",
       "    <tr>\n",
       "      <th>LAB2404</th>\n",
       "      <td>2.159687</td>\n",
       "    </tr>\n",
       "    <tr>\n",
       "      <th>LAB2467</th>\n",
       "      <td>2.138372</td>\n",
       "    </tr>\n",
       "    <tr>\n",
       "      <th>cutaneous_biopsy_neurotropism</th>\n",
       "      <td>2.016569</td>\n",
       "    </tr>\n",
       "    <tr>\n",
       "      <th>LAB2544</th>\n",
       "      <td>1.700743</td>\n",
       "    </tr>\n",
       "    <tr>\n",
       "      <th>cutaneous_biopsy_associated_nevus</th>\n",
       "      <td>1.698691</td>\n",
       "    </tr>\n",
       "    <tr>\n",
       "      <th>missLAB</th>\n",
       "      <td>1.599956</td>\n",
       "    </tr>\n",
       "    <tr>\n",
       "      <th>missBIO2</th>\n",
       "      <td>1.550206</td>\n",
       "    </tr>\n",
       "    <tr>\n",
       "      <th>LAB2679</th>\n",
       "      <td>1.431925</td>\n",
       "    </tr>\n",
       "    <tr>\n",
       "      <th>LAB2476</th>\n",
       "      <td>1.427291</td>\n",
       "    </tr>\n",
       "    <tr>\n",
       "      <th>LABGF_filtrat_glomerular</th>\n",
       "      <td>1.398027</td>\n",
       "    </tr>\n",
       "    <tr>\n",
       "      <th>T0_date</th>\n",
       "      <td>1.313302</td>\n",
       "    </tr>\n",
       "    <tr>\n",
       "      <th>LAB2469</th>\n",
       "      <td>1.013349</td>\n",
       "    </tr>\n",
       "    <tr>\n",
       "      <th>count_inv_prec_tumour</th>\n",
       "      <td>0.895032</td>\n",
       "    </tr>\n",
       "    <tr>\n",
       "      <th>LAB1314</th>\n",
       "      <td>0.886192</td>\n",
       "    </tr>\n",
       "    <tr>\n",
       "      <th>LAB2422</th>\n",
       "      <td>0.882096</td>\n",
       "    </tr>\n",
       "    <tr>\n",
       "      <th>LAB4176</th>\n",
       "      <td>0.674370</td>\n",
       "    </tr>\n",
       "    <tr>\n",
       "      <th>LAB2498</th>\n",
       "      <td>0.630589</td>\n",
       "    </tr>\n",
       "    <tr>\n",
       "      <th>LAB1311</th>\n",
       "      <td>0.570413</td>\n",
       "    </tr>\n",
       "    <tr>\n",
       "      <th>missBIO</th>\n",
       "      <td>0.553382</td>\n",
       "    </tr>\n",
       "    <tr>\n",
       "      <th>LAB2406</th>\n",
       "      <td>0.545312</td>\n",
       "    </tr>\n",
       "    <tr>\n",
       "      <th>LAB2405</th>\n",
       "      <td>0.411698</td>\n",
       "    </tr>\n",
       "    <tr>\n",
       "      <th>missNEU</th>\n",
       "      <td>0.359725</td>\n",
       "    </tr>\n",
       "    <tr>\n",
       "      <th>LAB2419</th>\n",
       "      <td>0.192511</td>\n",
       "    </tr>\n",
       "    <tr>\n",
       "      <th>LAB1313</th>\n",
       "      <td>-0.174719</td>\n",
       "    </tr>\n",
       "    <tr>\n",
       "      <th>LAB1316</th>\n",
       "      <td>-0.772588</td>\n",
       "    </tr>\n",
       "    <tr>\n",
       "      <th>cutaneous_biopsy_predominant_cell_type</th>\n",
       "      <td>-0.811093</td>\n",
       "    </tr>\n",
       "    <tr>\n",
       "      <th>LAB2407</th>\n",
       "      <td>-1.747976</td>\n",
       "    </tr>\n",
       "    <tr>\n",
       "      <th>count_situ_prec_tumour</th>\n",
       "      <td>-2.058878</td>\n",
       "    </tr>\n",
       "  </tbody>\n",
       "</table>\n",
       "</div>"
      ],
      "text/plain": [
       "                                        importance\n",
       "cutaneous_biopsy_ulceration              16.945124\n",
       "scenario                                 15.520163\n",
       "cutaneous_biopsy_histological_subtype    13.544637\n",
       "cutaneous_biopsy_breslow                 10.426852\n",
       "total_count_slnb_ldn                      8.948453\n",
       "patient_eye_color                         7.675007\n",
       "visceral_metastasis_location              6.661023\n",
       "age                                       6.592799\n",
       "cutaneous_biopsy_lymphatic_invasion       6.444807\n",
       "total_positives_slnb_ldn                  6.149525\n",
       "cutaneous_biopsy_mitotic_index            5.784553\n",
       "cutaneous_biopsy_vascular_invasion        5.491489\n",
       "patient_phototype                         5.469875\n",
       "cutaneous_biopsy_satellitosis             5.443019\n",
       "patient_hair_color                        5.146332\n",
       "MC1R                                      4.607081\n",
       "patient_gender                            3.405116\n",
       "primary_tumour_location_coded             3.389016\n",
       "limfocits_per_monocits                    3.077213\n",
       "LAB1309                                   2.879435\n",
       "cutaneous_biopsy_regression               2.868222\n",
       "LAB1307                                   2.848082\n",
       "neutrofils_per_limfocits                  2.788114\n",
       "LAB1301                                   2.648060\n",
       "LAB2404                                   2.159687\n",
       "LAB2467                                   2.138372\n",
       "cutaneous_biopsy_neurotropism             2.016569\n",
       "LAB2544                                   1.700743\n",
       "cutaneous_biopsy_associated_nevus         1.698691\n",
       "missLAB                                   1.599956\n",
       "missBIO2                                  1.550206\n",
       "LAB2679                                   1.431925\n",
       "LAB2476                                   1.427291\n",
       "LABGF_filtrat_glomerular                  1.398027\n",
       "T0_date                                   1.313302\n",
       "LAB2469                                   1.013349\n",
       "count_inv_prec_tumour                     0.895032\n",
       "LAB1314                                   0.886192\n",
       "LAB2422                                   0.882096\n",
       "LAB4176                                   0.674370\n",
       "LAB2498                                   0.630589\n",
       "LAB1311                                   0.570413\n",
       "missBIO                                   0.553382\n",
       "LAB2406                                   0.545312\n",
       "LAB2405                                   0.411698\n",
       "missNEU                                   0.359725\n",
       "LAB2419                                   0.192511\n",
       "LAB1313                                  -0.174719\n",
       "LAB1316                                  -0.772588\n",
       "cutaneous_biopsy_predominant_cell_type   -0.811093\n",
       "LAB2407                                  -1.747976\n",
       "count_situ_prec_tumour                   -2.058878"
      ]
     },
     "execution_count": 31,
     "metadata": {},
     "output_type": "execute_result"
    }
   ],
   "source": [
    "importance = pd.DataFrame(estimator.variable_importance.values(), index =  estimator.variable_importance.keys(),\n",
    "                          columns =['importance'])\n",
    "importance.sort_values(by=\"importance\", ascending=False, inplace=True)\n",
    "\n",
    "\n",
    "selected_columns = importance[abs(importance.importance)>0].index\n",
    "importance"
   ]
  },
  {
   "cell_type": "code",
   "execution_count": 32,
   "metadata": {},
   "outputs": [
    {
     "name": "stdout",
     "output_type": "stream",
     "text": [
      "C-index: 0.82\n"
     ]
    },
    {
     "data": {
      "image/png": "[encoded data removed]",
      "text/plain": [
       "<Figure size 1440x468 with 1 Axes>"
      ]
     },
     "metadata": {
      "needs_background": "light"
     },
     "output_type": "display_data"
    },
    {
     "name": "stdout",
     "output_type": "stream",
     "text": [
      "IBS: 0.02\n",
      "Overall error:  0.05783004873269173\n"
     ]
    },
    {
     "data": {
      "text/plain": [
       "Index(['cutaneous_biopsy_ulceration', 'scenario',\n",
       "       'cutaneous_biopsy_histological_subtype', 'cutaneous_biopsy_breslow',\n",
       "       'total_count_slnb_ldn', 'patient_eye_color',\n",
       "       'visceral_metastasis_location', 'age',\n",
       "       'cutaneous_biopsy_lymphatic_invasion', 'total_positives_slnb_ldn',\n",
       "       'cutaneous_biopsy_mitotic_index', 'cutaneous_biopsy_vascular_invasion',\n",
       "       'patient_phototype', 'cutaneous_biopsy_satellitosis',\n",
       "       'patient_hair_color', 'MC1R', 'patient_gender',\n",
       "       'primary_tumour_location_coded', 'limfocits_per_monocits', 'LAB1309',\n",
       "       'cutaneous_biopsy_regression', 'LAB1307', 'neutrofils_per_limfocits',\n",
       "       'LAB1301', 'LAB2404', 'LAB2467', 'cutaneous_biopsy_neurotropism',\n",
       "       'LAB2544', 'cutaneous_biopsy_associated_nevus', 'missLAB', 'missBIO2',\n",
       "       'LAB2679', 'LAB2476', 'LABGF_filtrat_glomerular', 'T0_date', 'LAB2469',\n",
       "       'count_inv_prec_tumour', 'LAB1314', 'LAB2422', 'LAB4176', 'LAB2498',\n",
       "       'LAB1311', 'missBIO', 'LAB2406', 'LAB2405', 'missNEU', 'LAB2419',\n",
       "       'LAB1313', 'LAB1316', 'cutaneous_biopsy_predominant_cell_type',\n",
       "       'LAB2407', 'count_situ_prec_tumour'],\n",
       "      dtype='object')"
      ]
     },
     "execution_count": 32,
     "metadata": {},
     "output_type": "execute_result"
    },
    {
     "data": {
      "image/png": "[encoded data removed]",
      "text/plain": [
       "<Figure size 576x720 with 1 Axes>"
      ]
     },
     "metadata": {
      "needs_background": "light"
     },
     "output_type": "display_data"
    }
   ],
   "source": [
    "#We reselect the columns with high importance and retrain the model to decrease the complexity of the model\n",
    "X_train_selected = X_train[selected_columns]\n",
    "X_test_selected = X_test[selected_columns]\n",
    "\n",
    "estimator = fit_model(X_train_selected, y_train, X_test_selected,y_test)\n",
    "\n",
    "predictions,times = get_probabilities(X_test_selected, estimator)\n",
    "\n",
    "# Plot survival curves for certain observations (here we take first 3 observations)\n",
    "for curve in predictions.values[0:3]:\n",
    "    plt.step(times, curve, where=\"post\")\n",
    "    \n",
    "weights = error_function.calc_weights(y_test) \n",
    "error = error_function.brier_score_loss_weighted(pred = predictions,actual = y_test, weights = weights)\n",
    "\n",
    "\n",
    "print(\"Overall error: \", error)\n",
    "\n",
    "selected_columns"
   ]
  },
  {
   "cell_type": "code",
   "execution_count": 34,
   "metadata": {},
   "outputs": [
    {
     "name": "stdout",
     "output_type": "stream",
     "text": [
      "Overall error:  0.05783004873269173\n",
      "Overall error2:  0.16528389096144785\n"
     ]
    }
   ],
   "source": [
    "#  store the probability curves\n",
    "predictions,times = get_probabilities(X_test_selected, estimator)\n",
    "predictions2,times = get_probabilities(X_test, estimator)\n",
    "\n",
    "weights = error_function.calc_weights(y_test) \n",
    "error = error_function.brier_score_loss_weighted(pred = predictions,actual = y_test, weights = weights)\n",
    "error2 = error_function.brier_score_loss_weighted(pred = predictions2,actual = y_test, weights = weights)\n",
    "\n",
    "\n",
    "\n",
    "print(\"Overall error: \", error)\n",
    "print(\"Overall error2: \", error2)"
   ]
  },
  {
   "cell_type": "code",
   "execution_count": 19,
   "metadata": {},
   "outputs": [],
   "source": [
    "#Retrain model with train + test sets\n",
    "\n",
    "X_data = pd.concat([X_train_selected,X_test_selected])\n",
    "y_data = pd.concat([y_train,y_test])\n",
    "estimator = fit_model(X_data, y_data, X_test_selected,y_test, plot=False)\n"
   ]
  },
  {
   "cell_type": "code",
   "execution_count": 22,
   "metadata": {},
   "outputs": [
    {
     "name": "stdout",
     "output_type": "stream",
     "text": [
      "Saving the model to disk as /home/laia/Escriptori/Master/Agile Data Science/Project/ExtraST_model.zip\n"
     ]
    }
   ],
   "source": [
    "from pysurvival.utils import save_model\n",
    "save_model(estimator, '/home/laia/Escriptori/Master/Agile Data Science/Project/ExtraST_model.zip')\n",
    "\n",
    "pd.DataFrame(selected_columns).to_csv(\"Features_ExtraST_model.csv\")"
   ]
  },
  {
   "cell_type": "code",
   "execution_count": 21,
   "metadata": {},
   "outputs": [
    {
     "name": "stdout",
     "output_type": "stream",
     "text": [
      "Loading the model from /home/laia/Escriptori/Master/Agile Data Science/Project/ExtraST_model.zip\n"
     ]
    }
   ],
   "source": [
    "from pysurvival.utils import load_model\n",
    "estimator_loaded = load_model('/home/laia/Escriptori/Master/Agile Data Science/Project/ExtraST_model.zip')"
   ]
  },
  {
   "cell_type": "code",
   "execution_count": null,
   "metadata": {},
   "outputs": [],
   "source": []
  }
 ],
 "metadata": {
  "kernelspec": {
   "display_name": "Python 3",
   "language": "python",
   "name": "python3"
  },
  "language_info": {
   "codemirror_mode": {
    "name": "ipython",
    "version": 3
   },
   "file_extension": ".py",
   "mimetype": "text/x-python",
   "name": "python",
   "nbconvert_exporter": "python",
   "pygments_lexer": "ipython3",
   "version": "3.7.5"
  }
 },
 "nbformat": 4,
 "nbformat_minor": 2
}
