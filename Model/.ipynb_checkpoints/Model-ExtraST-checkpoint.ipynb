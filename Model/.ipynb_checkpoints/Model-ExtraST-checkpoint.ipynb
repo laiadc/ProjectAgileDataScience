{
 "cells": [
  {
   "cell_type": "code",
   "execution_count": 1,
   "metadata": {
    "scrolled": false
   },
   "outputs": [],
   "source": [
    "import pandas as pd\n",
    "import numpy as np\n",
    "import warnings\n",
    "import matplotlib.pyplot as plt\n",
    "warnings.simplefilter('ignore')\n",
    "\n",
    "from missingpy import KNNImputer\n",
    "from cleaning import cleaning\n",
    "import error_function\n",
    "\n",
    "from lasso import rmse_cv,Lasso_importance\n",
    "\n",
    "import matplotlib.pyplot as plt\n",
    "from sklearn.model_selection import train_test_split\n",
    "import sklearn\n",
    "\n",
    "from pysurvival.models.survival_forest import ExtraSurvivalTreesModel#pip install pysurvival\n",
    "from pysurvival.utils.metrics import concordance_index\n",
    "from pysurvival.utils.display import integrated_brier_score"
   ]
  },
  {
   "cell_type": "markdown",
   "metadata": {},
   "source": [
    "Extra survival trees model:\n",
    "https://square.github.io/pysurvival/models/survival_forest.html\n",
    "\n",
    "Steps:\n",
    "1. clean the data (missing data + binary/target encoding + normalization)\n",
    "2. select the columns with lasso regression\n",
    "3. train a ExtraST model\n",
    "4. compute the error\n",
    "5. reselect the columns with high importance\n",
    "6. retrain the model\n",
    "7. compute final error and final selected features\n",
    "8. train the model with the whole dataset\n",
    "9. export the model and features."
   ]
  },
  {
   "cell_type": "code",
   "execution_count": 2,
   "metadata": {},
   "outputs": [],
   "source": [
    "X_train, X_test, y_train, y_test = cleaning('train.csv', 0.2)\n"
   ]
  },
  {
   "cell_type": "code",
   "execution_count": 3,
   "metadata": {
    "scrolled": true
   },
   "outputs": [
    {
     "data": {
      "text/html": [
       "<div>\n",
       "<style scoped>\n",
       "    .dataframe tbody tr th:only-of-type {\n",
       "        vertical-align: middle;\n",
       "    }\n",
       "\n",
       "    .dataframe tbody tr th {\n",
       "        vertical-align: top;\n",
       "    }\n",
       "\n",
       "    .dataframe thead th {\n",
       "        text-align: right;\n",
       "    }\n",
       "</style>\n",
       "<table border=\"1\" class=\"dataframe\">\n",
       "  <thead>\n",
       "    <tr style=\"text-align: right;\">\n",
       "      <th></th>\n",
       "      <th>patient_gender</th>\n",
       "      <th>patient_eye_color</th>\n",
       "      <th>patient_hair_color</th>\n",
       "      <th>patient_phototype</th>\n",
       "      <th>primary_tumour_location_coded</th>\n",
       "      <th>T0_date</th>\n",
       "      <th>cutaneous_biopsy_breslow</th>\n",
       "      <th>cutaneous_biopsy_ulceration</th>\n",
       "      <th>cutaneous_biopsy_satellitosis</th>\n",
       "      <th>cutaneous_biopsy_vascular_invasion</th>\n",
       "      <th>...</th>\n",
       "      <th>LAB2679</th>\n",
       "      <th>LAB4176</th>\n",
       "      <th>neutrofils_per_limfocits</th>\n",
       "      <th>limfocits_per_monocits</th>\n",
       "      <th>LABGF_filtrat_glomerular</th>\n",
       "      <th>missLymp</th>\n",
       "      <th>missLAB</th>\n",
       "      <th>missBIO</th>\n",
       "      <th>missBIO2</th>\n",
       "      <th>missNEU</th>\n",
       "    </tr>\n",
       "  </thead>\n",
       "  <tbody>\n",
       "    <tr>\n",
       "      <th>1159</th>\n",
       "      <td>1</td>\n",
       "      <td>0.000000</td>\n",
       "      <td>0.000000</td>\n",
       "      <td>0.0</td>\n",
       "      <td>0.559139</td>\n",
       "      <td>0.002481</td>\n",
       "      <td>0.031667</td>\n",
       "      <td>103.969494</td>\n",
       "      <td>0</td>\n",
       "      <td>0</td>\n",
       "      <td>...</td>\n",
       "      <td>0.000000</td>\n",
       "      <td>0.000000</td>\n",
       "      <td>0.000000</td>\n",
       "      <td>0.000000</td>\n",
       "      <td>0.00000</td>\n",
       "      <td>0.0</td>\n",
       "      <td>1.0</td>\n",
       "      <td>1.0</td>\n",
       "      <td>1.0</td>\n",
       "      <td>1.0</td>\n",
       "    </tr>\n",
       "    <tr>\n",
       "      <th>2017</th>\n",
       "      <td>1</td>\n",
       "      <td>0.000000</td>\n",
       "      <td>0.000000</td>\n",
       "      <td>0.0</td>\n",
       "      <td>0.253265</td>\n",
       "      <td>0.007940</td>\n",
       "      <td>0.003333</td>\n",
       "      <td>103.969494</td>\n",
       "      <td>0</td>\n",
       "      <td>0</td>\n",
       "      <td>...</td>\n",
       "      <td>0.000000</td>\n",
       "      <td>0.000000</td>\n",
       "      <td>0.000000</td>\n",
       "      <td>0.000000</td>\n",
       "      <td>0.00000</td>\n",
       "      <td>0.0</td>\n",
       "      <td>1.0</td>\n",
       "      <td>0.0</td>\n",
       "      <td>0.0</td>\n",
       "      <td>1.0</td>\n",
       "    </tr>\n",
       "    <tr>\n",
       "      <th>978</th>\n",
       "      <td>0</td>\n",
       "      <td>0.225707</td>\n",
       "      <td>0.128812</td>\n",
       "      <td>0.6</td>\n",
       "      <td>0.493579</td>\n",
       "      <td>0.002978</td>\n",
       "      <td>0.031333</td>\n",
       "      <td>103.969494</td>\n",
       "      <td>0</td>\n",
       "      <td>0</td>\n",
       "      <td>...</td>\n",
       "      <td>0.000000</td>\n",
       "      <td>0.000000</td>\n",
       "      <td>0.000000</td>\n",
       "      <td>0.000000</td>\n",
       "      <td>0.00000</td>\n",
       "      <td>0.0</td>\n",
       "      <td>1.0</td>\n",
       "      <td>0.0</td>\n",
       "      <td>0.0</td>\n",
       "      <td>1.0</td>\n",
       "    </tr>\n",
       "    <tr>\n",
       "      <th>759</th>\n",
       "      <td>0</td>\n",
       "      <td>0.000000</td>\n",
       "      <td>0.000000</td>\n",
       "      <td>0.0</td>\n",
       "      <td>0.314873</td>\n",
       "      <td>0.000496</td>\n",
       "      <td>0.005000</td>\n",
       "      <td>103.969494</td>\n",
       "      <td>0</td>\n",
       "      <td>0</td>\n",
       "      <td>...</td>\n",
       "      <td>0.000000</td>\n",
       "      <td>0.000000</td>\n",
       "      <td>0.000000</td>\n",
       "      <td>0.000000</td>\n",
       "      <td>0.00000</td>\n",
       "      <td>0.0</td>\n",
       "      <td>1.0</td>\n",
       "      <td>0.0</td>\n",
       "      <td>0.0</td>\n",
       "      <td>1.0</td>\n",
       "    </tr>\n",
       "    <tr>\n",
       "      <th>874</th>\n",
       "      <td>0</td>\n",
       "      <td>0.000000</td>\n",
       "      <td>0.000000</td>\n",
       "      <td>0.0</td>\n",
       "      <td>0.314873</td>\n",
       "      <td>0.002978</td>\n",
       "      <td>0.003333</td>\n",
       "      <td>103.969494</td>\n",
       "      <td>0</td>\n",
       "      <td>0</td>\n",
       "      <td>...</td>\n",
       "      <td>0.007364</td>\n",
       "      <td>0.132678</td>\n",
       "      <td>0.063272</td>\n",
       "      <td>0.025074</td>\n",
       "      <td>0.41237</td>\n",
       "      <td>0.0</td>\n",
       "      <td>0.0</td>\n",
       "      <td>0.0</td>\n",
       "      <td>0.0</td>\n",
       "      <td>0.0</td>\n",
       "    </tr>\n",
       "  </tbody>\n",
       "</table>\n",
       "<p>5 rows × 54 columns</p>\n",
       "</div>"
      ],
      "text/plain": [
       "      patient_gender  patient_eye_color  patient_hair_color  \\\n",
       "1159               1           0.000000            0.000000   \n",
       "2017               1           0.000000            0.000000   \n",
       "978                0           0.225707            0.128812   \n",
       "759                0           0.000000            0.000000   \n",
       "874                0           0.000000            0.000000   \n",
       "\n",
       "      patient_phototype  primary_tumour_location_coded   T0_date  \\\n",
       "1159                0.0                       0.559139  0.002481   \n",
       "2017                0.0                       0.253265  0.007940   \n",
       "978                 0.6                       0.493579  0.002978   \n",
       "759                 0.0                       0.314873  0.000496   \n",
       "874                 0.0                       0.314873  0.002978   \n",
       "\n",
       "      cutaneous_biopsy_breslow  cutaneous_biopsy_ulceration  \\\n",
       "1159                  0.031667                   103.969494   \n",
       "2017                  0.003333                   103.969494   \n",
       "978                   0.031333                   103.969494   \n",
       "759                   0.005000                   103.969494   \n",
       "874                   0.003333                   103.969494   \n",
       "\n",
       "      cutaneous_biopsy_satellitosis  cutaneous_biopsy_vascular_invasion  ...  \\\n",
       "1159                              0                                   0  ...   \n",
       "2017                              0                                   0  ...   \n",
       "978                               0                                   0  ...   \n",
       "759                               0                                   0  ...   \n",
       "874                               0                                   0  ...   \n",
       "\n",
       "       LAB2679   LAB4176  neutrofils_per_limfocits  limfocits_per_monocits  \\\n",
       "1159  0.000000  0.000000                  0.000000                0.000000   \n",
       "2017  0.000000  0.000000                  0.000000                0.000000   \n",
       "978   0.000000  0.000000                  0.000000                0.000000   \n",
       "759   0.000000  0.000000                  0.000000                0.000000   \n",
       "874   0.007364  0.132678                  0.063272                0.025074   \n",
       "\n",
       "      LABGF_filtrat_glomerular  missLymp  missLAB  missBIO  missBIO2  missNEU  \n",
       "1159                   0.00000       0.0      1.0      1.0       1.0      1.0  \n",
       "2017                   0.00000       0.0      1.0      0.0       0.0      1.0  \n",
       "978                    0.00000       0.0      1.0      0.0       0.0      1.0  \n",
       "759                    0.00000       0.0      1.0      0.0       0.0      1.0  \n",
       "874                    0.41237       0.0      0.0      0.0       0.0      0.0  \n",
       "\n",
       "[5 rows x 54 columns]"
      ]
     },
     "execution_count": 3,
     "metadata": {},
     "output_type": "execute_result"
    }
   ],
   "source": [
    "X_test.head()"
   ]
  },
  {
   "cell_type": "code",
   "execution_count": 4,
   "metadata": {},
   "outputs": [
    {
     "name": "stdout",
     "output_type": "stream",
     "text": [
      "Lasso set coefficient equal to 0 to 2 features out of 54\n"
     ]
    },
    {
     "data": {
      "image/png": "[encoded data removed]",
      "text/plain": [
       "<Figure size 576x720 with 1 Axes>"
      ]
     },
     "metadata": {
      "needs_background": "light"
     },
     "output_type": "display_data"
    }
   ],
   "source": [
    "# Feature selection\n",
    "\n",
    "coefs = Lasso_importance(X_train, y_train.months_survival)"
   ]
  },
  {
   "cell_type": "code",
   "execution_count": 5,
   "metadata": {
    "scrolled": true
   },
   "outputs": [],
   "source": [
    "coefs.sort_values(ascending=False, inplace=True)\n"
   ]
  },
  {
   "cell_type": "code",
   "execution_count": 6,
   "metadata": {},
   "outputs": [],
   "source": [
    "selected_columns = coefs[np.abs(coefs)>0].index"
   ]
  },
  {
   "cell_type": "code",
   "execution_count": 7,
   "metadata": {},
   "outputs": [],
   "source": [
    "X_train_selected = X_train[selected_columns]\n",
    "X_test_selected = X_test[selected_columns]"
   ]
  },
  {
   "cell_type": "code",
   "execution_count": 12,
   "metadata": {},
   "outputs": [],
   "source": [
    "def fit_model(x_train, y_train,x_test,y_test, plot=True):\n",
    "    # Building the model\n",
    "    xst = ExtraSurvivalTreesModel(num_trees=200)\n",
    "    # Fit model\n",
    "    xst.fit(x_train, y_train.months_survival.values, y_train.specific_death.values,\n",
    "            max_features=\"sqrt\", max_depth=50, min_node_size=10, seed=42)\n",
    "    \n",
    "    if plot:\n",
    "        #### - Cross Validation / Model Performances\n",
    "        c_index = concordance_index(xst,  x_test.values, y_test.months_survival.values,y_test.specific_death.values) #0.81\n",
    "        print('C-index: {:.2f}'.format(c_index))\n",
    "\n",
    "\n",
    "        ibs = integrated_brier_score(xst, x_test.values, y_test.months_survival.values,y_test.specific_death.values\n",
    "                    , t_max=30,figure_size=(20, 6.5) )\n",
    "        print('IBS: {:.2f}'.format(ibs))\n",
    "\n",
    "    return xst"
   ]
  },
  {
   "cell_type": "code",
   "execution_count": null,
   "metadata": {
    "scrolled": true
   },
   "outputs": [
    {
     "name": "stdout",
     "output_type": "stream",
     "text": [
      "C-index: 0.82\n"
     ]
    }
   ],
   "source": [
    "estimator = fit_model(X_train_selected, y_train, X_test_selected,y_test)"
   ]
  },
  {
   "cell_type": "code",
   "execution_count": null,
   "metadata": {},
   "outputs": [],
   "source": [
    "def get_probabilities(x_test, estimator):\n",
    "    \n",
    "    # Create an empty pandas dataframes with these times as the columns\n",
    "    pred = estimator.predict_survival(x_test.values[0, :]).flatten()\n",
    "    times = np.arange(pred.shape[0])\n",
    "    pred_df = pd.DataFrame(columns = times )\n",
    "    \n",
    "    # Convert each row to a pandas series row (transpose) with the index as these x times and append it to the df\n",
    "    for i in range(0,len(x_test)):\n",
    "        pred = estimator.predict_survival(x_test.values[i, :])\n",
    "        pred_df = pred_df.append(pd.DataFrame(pred)) \n",
    "\n",
    "    pred_df = pred_df.set_index(np.arange(pred_df.shape[0]))\n",
    "\n",
    "    return pred_df,times"
   ]
  },
  {
   "cell_type": "code",
   "execution_count": null,
   "metadata": {
    "scrolled": true
   },
   "outputs": [],
   "source": [
    "#  store the probability curves\n",
    "predictions,times = get_probabilities(X_test_selected, estimator)\n",
    "predictions2,times = get_probabilities(X_test, estimator)\n",
    "  "
   ]
  },
  {
   "cell_type": "code",
   "execution_count": null,
   "metadata": {},
   "outputs": [],
   "source": [
    "#Calculate error\n",
    "\n",
    "weights = error_function.calc_weights(y_test) \n",
    "error = error_function.brier_score_loss_weighted(pred = predictions,actual = y_test, weights = weights)\n",
    "error2 = error_function.brier_score_loss_weighted(pred = predictions,actual = y_test, weights = weights)\n",
    "\n",
    "\n",
    "\n",
    "print(\"Overall error: \", error)\n",
    "print(\"Overall error2: \", error2)\n"
   ]
  },
  {
   "cell_type": "code",
   "execution_count": 17,
   "metadata": {
    "scrolled": false
   },
   "outputs": [],
   "source": [
    "importance = pd.DataFrame(estimator.variable_importance.values(), index =  estimator.variable_importance.keys(),\n",
    "                          columns =['importance'])\n",
    "importance.sort_values(by=\"importance\", ascending=False, inplace=True)\n",
    "\n",
    "selected_columns = importance[abs(importance.importance)>1].index"
   ]
  },
  {
   "cell_type": "code",
   "execution_count": 18,
   "metadata": {},
   "outputs": [
    {
     "name": "stdout",
     "output_type": "stream",
     "text": [
      "C-index: 0.76\n"
     ]
    },
    {
     "data": {
      "image/png": "[encoded data removed]",
      "text/plain": [
       "<Figure size 1440x468 with 1 Axes>"
      ]
     },
     "metadata": {
      "needs_background": "light"
     },
     "output_type": "display_data"
    },
    {
     "name": "stdout",
     "output_type": "stream",
     "text": [
      "IBS: 0.02\n",
      "Overall error:  0.06138306114212452\n"
     ]
    },
    {
     "data": {
      "text/plain": [
       "Index(['cutaneous_biopsy_ulceration', 'scenario',\n",
       "       'cutaneous_biopsy_histological_subtype', 'cutaneous_biopsy_breslow',\n",
       "       'total_count_slnb_ldn', 'visceral_metastasis_location',\n",
       "       'total_positives_slnb_ldn', 'patient_hair_color',\n",
       "       'cutaneous_biopsy_lymphatic_invasion', 'patient_eye_color',\n",
       "       'cutaneous_biopsy_mitotic_index', 'age', 'patient_phototype',\n",
       "       'cutaneous_biopsy_satellitosis', 'MC1R',\n",
       "       'cutaneous_biopsy_vascular_invasion', 'cutaneous_biopsy_regression',\n",
       "       'LAB2419', 'T0_date', 'missBIO2', 'LAB2406', 'LAB1307',\n",
       "       'patient_gender', 'LAB2469', 'LAB2544', 'neutrofils_per_limfocits',\n",
       "       'cutaneous_biopsy_neurotropism', 'LAB2467', 'LAB1309',\n",
       "       'primary_tumour_location_coded', 'LAB2476', 'LAB2679', 'LAB2404',\n",
       "       'cutaneous_biopsy_predominant_cell_type', 'LAB2407', 'LAB1301',\n",
       "       'LAB2498'],\n",
       "      dtype='object')"
      ]
     },
     "execution_count": 18,
     "metadata": {},
     "output_type": "execute_result"
    },
    {
     "data": {
      "image/png": "[encoded data removed]",
      "text/plain": [
       "<Figure size 576x720 with 1 Axes>"
      ]
     },
     "metadata": {
      "needs_background": "light"
     },
     "output_type": "display_data"
    }
   ],
   "source": [
    "#We reselect the columns with high importance and retrain the model to decrease the complexity of the model\n",
    "X_train_selected = X_train[selected_columns]\n",
    "X_test_selected = X_test[selected_columns]\n",
    "\n",
    "estimator = fit_model(X_train_selected, y_train, X_test_selected,y_test)\n",
    "\n",
    "predictions,times = get_probabilities(X_test_selected, estimator)\n",
    "\n",
    "# Plot survival curves for certain observations (here we take first 3 observations)\n",
    "for curve in predictions.values[0:3]:\n",
    "    plt.step(times, curve, where=\"post\")\n",
    "    \n",
    "weights = error_function.calc_weights(y_test) \n",
    "error = error_function.brier_score_loss_weighted(pred = predictions,actual = y_test, weights = weights)\n",
    "\n",
    "\n",
    "print(\"Overall error: \", error)\n",
    "\n",
    "selected_columns"
   ]
  },
  {
   "cell_type": "code",
   "execution_count": 19,
   "metadata": {},
   "outputs": [],
   "source": [
    "#Retrain model with train + test sets\n",
    "\n",
    "X_data = pd.concat([X_train_selected,X_test_selected])\n",
    "y_data = pd.concat([y_train,y_test])\n",
    "estimator = fit_model(X_data, y_data, X_test_selected,y_test, plot=False)\n"
   ]
  },
  {
   "cell_type": "code",
   "execution_count": 22,
   "metadata": {},
   "outputs": [
    {
     "name": "stdout",
     "output_type": "stream",
     "text": [
      "Saving the model to disk as /home/laia/Escriptori/Master/Agile Data Science/Project/ExtraST_model.zip\n"
     ]
    }
   ],
   "source": [
    "from pysurvival.utils import save_model\n",
    "save_model(estimator, '/home/laia/Escriptori/Master/Agile Data Science/Project/ExtraST_model.zip')\n",
    "\n",
    "pd.DataFrame(selected_columns).to_csv(\"Features_ExtraST_model.csv\")"
   ]
  },
  {
   "cell_type": "code",
   "execution_count": 21,
   "metadata": {},
   "outputs": [
    {
     "name": "stdout",
     "output_type": "stream",
     "text": [
      "Loading the model from /home/laia/Escriptori/Master/Agile Data Science/Project/ExtraST_model.zip\n"
     ]
    }
   ],
   "source": [
    "from pysurvival.utils import load_model\n",
    "estimator_loaded = load_model('/home/laia/Escriptori/Master/Agile Data Science/Project/ExtraST_model.zip')"
   ]
  },
  {
   "cell_type": "code",
   "execution_count": null,
   "metadata": {},
   "outputs": [],
   "source": []
  }
 ],
 "metadata": {
  "kernelspec": {
   "display_name": "Python 3",
   "language": "python",
   "name": "python3"
  },
  "language_info": {
   "codemirror_mode": {
    "name": "ipython",
    "version": 3
   },
   "file_extension": ".py",
   "mimetype": "text/x-python",
   "name": "python",
   "nbconvert_exporter": "python",
   "pygments_lexer": "ipython3",
   "version": "3.7.5"
  }
 },
 "nbformat": 4,
 "nbformat_minor": 2
}
