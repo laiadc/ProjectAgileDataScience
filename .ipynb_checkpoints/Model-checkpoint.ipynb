{
 "cells": [
  {
   "cell_type": "code",
   "execution_count": 1,
   "metadata": {
    "scrolled": false
   },
   "outputs": [],
   "source": [
    "import pandas as pd\n",
    "import numpy as np\n",
    "import warnings\n",
    "warnings.simplefilter('ignore')\n",
    "\n",
    "from missingpy import KNNImputer\n",
    "from missing import missingData\n",
    "import error_function\n",
    "\n",
    "from sklearn.preprocessing import LabelEncoder\n",
    "from sksurv.preprocessing import OneHotEncoder\n",
    "from sksurv.linear_model import CoxPHSurvivalAnalysis\n",
    "import matplotlib.pyplot as plt\n",
    "from sklearn.model_selection import train_test_split"
   ]
  },
  {
   "cell_type": "markdown",
   "metadata": {},
   "source": [
    "This is just an example notebook to run a simple model.\n",
    "We use missing imputation. We select only two features as an example. Then we treat cathegorical variables with one-hot encoding (also for simplicity) and finally we fit a COX model. We then obtain the probabilities and plot the results. Finally we compute the error using brier score loss weighted."
   ]
  },
  {
   "cell_type": "code",
   "execution_count": 2,
   "metadata": {},
   "outputs": [
    {
     "data": {
      "text/plain": [
       "ID                                        0\n",
       "patient_gender                            0\n",
       "patient_eye_color                         0\n",
       "patient_hair_color                        0\n",
       "patient_phototype                         0\n",
       "primary_tumour_location_coded             0\n",
       "T0_date                                   0\n",
       "cutaneous_biopsy_breslow                  0\n",
       "cutaneous_biopsy_ulceration               0\n",
       "cutaneous_biopsy_satellitosis             0\n",
       "cutaneous_biopsy_vascular_invasion        0\n",
       "cutaneous_biopsy_neurotropism             0\n",
       "cutaneous_biopsy_lymphatic_invasion       0\n",
       "cutaneous_biopsy_predominant_cell_type    0\n",
       "cutaneous_biopsy_associated_nevus         0\n",
       "cutaneous_biopsy_mitotic_index            0\n",
       "cutaneous_biopsy_histological_subtype     0\n",
       "cutaneous_biopsy_regression               0\n",
       "count_inv_prec_tumour                     0\n",
       "count_situ_prec_tumour                    0\n",
       "total_count_slnb_ldn                      0\n",
       "total_positives_slnb_ldn                  0\n",
       "scenario                                  0\n",
       "visceral_metastasis_location              0\n",
       "MC1R                                      0\n",
       "age                                       0\n",
       "specific_death                            0\n",
       "months_survival                           0\n",
       "LAB1300                                   0\n",
       "LAB1301                                   0\n",
       "LAB1307                                   0\n",
       "LAB1309                                   0\n",
       "LAB1311                                   0\n",
       "LAB1313                                   0\n",
       "LAB1314                                   0\n",
       "LAB1316                                   0\n",
       "LAB2404                                   0\n",
       "LAB2405                                   0\n",
       "LAB2406                                   0\n",
       "LAB2407                                   0\n",
       "LAB2419                                   0\n",
       "LAB2422                                   0\n",
       "LAB2467                                   0\n",
       "LAB2469                                   0\n",
       "LAB2476                                   0\n",
       "LAB2498                                   0\n",
       "LAB2544                                   0\n",
       "LAB2679                                   0\n",
       "LAB4176                                   0\n",
       "neutrofils_per_limfocits                  0\n",
       "limfocits_per_monocits                    0\n",
       "LABGF_filtrat_glomerular                  0\n",
       "missLymp                                  0\n",
       "missLAB                                   0\n",
       "missBIO                                   0\n",
       "missBIO2                                  0\n",
       "missNEU                                   0\n",
       "dtype: int64"
      ]
     },
     "execution_count": 2,
     "metadata": {},
     "output_type": "execute_result"
    }
   ],
   "source": [
    "train = pd.read_csv(\"data/train.csv\")\n",
    "#test = pd.read_csv(\"data/test.csv\")\n",
    "\n",
    "train = missingData(train)\n",
    "\n",
    "#test = missingData(test)"
   ]
  },
  {
   "cell_type": "code",
   "execution_count": 3,
   "metadata": {},
   "outputs": [],
   "source": [
    "# Feature selection\n",
    "X_train = train[['age', 'cutaneous_biopsy_breslow']]\n",
    "y_train = train[[ \"specific_death\", \"months_survival\"]]\n"
   ]
  },
  {
   "cell_type": "code",
   "execution_count": 4,
   "metadata": {},
   "outputs": [],
   "source": [
    "#Train/test split\n",
    "\n",
    "X_train, test, y_train, y_test = train_test_split(X_train, y_train, test_size=0.2, random_state=42)\n"
   ]
  },
  {
   "cell_type": "code",
   "execution_count": 5,
   "metadata": {},
   "outputs": [],
   "source": [
    "#train.T0_date = pd.to_datetime(train.T0_date).dt.year\n",
    "#train.T0_date = train.T0_date.astype(float)\n",
    "#test.T0_date = pd.to_datetime(test.T0_date).dt.year\n",
    "#test.T0_date = test.T0_date.astype(float)\n",
    "\n",
    "#y_train = train[[ \"specific_death\", \"months_survival\"]]\n",
    "\n",
    "\n",
    "#X_train = train.drop([\"specific_death\", \"months_survival\"], axis=1)\n"
   ]
  },
  {
   "cell_type": "code",
   "execution_count": 6,
   "metadata": {},
   "outputs": [],
   "source": [
    "def cathegorical(x_train, y_train, test_df):\n",
    "    \n",
    "    # 3.1. Prepare Y-----\n",
    "    y_train.specific_death = y_train.specific_death.astype(bool)\n",
    "    \n",
    "    # Transform it into a structured array\n",
    "    y_train = y_train.to_records(index = False)\n",
    "\n",
    "    # 3.2. Prepare X-----\n",
    "    # obtain the x variables that are categorical\n",
    "    categorical_feature_mask = x_train.dtypes==object\n",
    "\n",
    "    # Filter categorical columns using mask and turn it into a list\n",
    "    categorical_cols = x_train.columns[categorical_feature_mask].tolist()\n",
    "\n",
    "    # Ensure categorical columns are category type\n",
    "    for col in categorical_cols:\n",
    "        x_train[col] = x_train[col].astype('category')\n",
    "        test_df[col] = test_df[col].astype('category')\n",
    "\n",
    "    \n",
    "    return  x_train, y_train, test_df"
   ]
  },
  {
   "cell_type": "code",
   "execution_count": 7,
   "metadata": {},
   "outputs": [],
   "source": [
    "X_train, y_train, test_df = cathegorical(X_train, y_train, test)"
   ]
  },
  {
   "cell_type": "code",
   "execution_count": 8,
   "metadata": {},
   "outputs": [],
   "source": [
    "def fit_model(x_train, y_train, test_df):\n",
    "        \n",
    "    # 3.3. Fit model-----\n",
    "    # initiate\n",
    "    encoder = OneHotEncoder()\n",
    "    estimator = CoxPHSurvivalAnalysis()\n",
    "    \n",
    "    # fit model\n",
    "    estimator.fit(encoder.fit_transform(x_train), y_train)\n",
    "    \n",
    "    # transform the test variables to match the train\n",
    "    x_test = encoder.transform(test_df)\n",
    "    \n",
    "    return (estimator, x_test, x_train, y_train)"
   ]
  },
  {
   "cell_type": "code",
   "execution_count": 9,
   "metadata": {},
   "outputs": [],
   "source": [
    "estimator, X_test, X_train, y_train = fit_model(X_train, y_train, test)"
   ]
  },
  {
   "cell_type": "code",
   "execution_count": 10,
   "metadata": {},
   "outputs": [],
   "source": [
    "def get_probabilities(x_test, estimator):\n",
    "    \n",
    "    pred_surv = estimator.predict_survival_function(x_test)\n",
    "\n",
    "    # Get the \"X's\" or time of each data point\n",
    "    times = pred_surv[0].x\n",
    "\n",
    "    # Create an empty pandas dataframes with these times as the columns\n",
    "    pred_df = pd.DataFrame(columns = times)\n",
    "\n",
    "    # Convert each row to a pandas series row (transpose) with the index as these x times and append it to the df\n",
    "    for i in range(0, len(x_test)):\n",
    "        pred_df = pred_df.append(pd.DataFrame(pred_surv[i].y).set_index(times).T) \n",
    "\n",
    "    pred_df = pred_df.set_index(x_test.index)\n",
    "\n",
    "    return pred_df"
   ]
  },
  {
   "cell_type": "code",
   "execution_count": 11,
   "metadata": {},
   "outputs": [
    {
     "data": {
      "image/png": "[encoded data removed]",
      "text/plain": [
       "<Figure size 432x288 with 1 Axes>"
      ]
     },
     "metadata": {
      "needs_background": "light"
     },
     "output_type": "display_data"
    }
   ],
   "source": [
    "# 4.2 store the predictions\n",
    "predictions = get_probabilities(X_test, estimator)\n",
    "\n",
    "# 4.3 Compute estimate of the survival curves\n",
    "pred_curves = estimator.predict_survival_function(X_test)\n",
    "\n",
    "# Plot survival curves for certain observations (here we take first 3 observations)\n",
    "for curve in pred_curves[0:3]:\n",
    "    plt.step(curve.x, curve.y, where=\"post\")\n",
    "  "
   ]
  },
  {
   "cell_type": "code",
   "execution_count": 12,
   "metadata": {},
   "outputs": [
    {
     "name": "stdout",
     "output_type": "stream",
     "text": [
      "Overall error:  0.07649934173874073\n"
     ]
    }
   ],
   "source": [
    "#Calculate error\n",
    "\n",
    "weights = error_function.calc_weights(y_test) \n",
    "error = error_function.brier_score_loss_weighted(pred = predictions,actual = y_test, weights = weights)\n",
    "\n",
    "\n",
    "print(\"Overall error: \", error)\n"
   ]
  }
 ],
 "metadata": {
  "kernelspec": {
   "display_name": "Python 3",
   "language": "python",
   "name": "python3"
  },
  "language_info": {
   "codemirror_mode": {
    "name": "ipython",
    "version": 3
   },
   "file_extension": ".py",
   "mimetype": "text/x-python",
   "name": "python",
   "nbconvert_exporter": "python",
   "pygments_lexer": "ipython3",
   "version": "3.7.3"
  }
 },
 "nbformat": 4,
 "nbformat_minor": 2
}
